{
 "cells": [
  {
   "cell_type": "markdown",
   "metadata": {},
   "source": [
    "Assimetria e Curtose\n",
    "*Assimetria* é uma medida que nos indica a tendência da distribuição dos dados \n",
    "1. Assimetria >= 0.5"
   ]
  },
  {
   "cell_type": "code",
   "execution_count": 24,
   "metadata": {},
   "outputs": [],
   "source": [
    "import pandas as pd\n",
    "import numpy as np\n",
    "import random"
   ]
  },
  {
   "cell_type": "code",
   "execution_count": 25,
   "metadata": {},
   "outputs": [
    {
     "data": {
      "text/html": [
       "<div>\n",
       "<style scoped>\n",
       "    .dataframe tbody tr th:only-of-type {\n",
       "        vertical-align: middle;\n",
       "    }\n",
       "\n",
       "    .dataframe tbody tr th {\n",
       "        vertical-align: top;\n",
       "    }\n",
       "\n",
       "    .dataframe thead th {\n",
       "        text-align: right;\n",
       "    }\n",
       "</style>\n",
       "<table border=\"1\" class=\"dataframe\">\n",
       "  <thead>\n",
       "    <tr style=\"text-align: right;\">\n",
       "      <th></th>\n",
       "      <th>Salários</th>\n",
       "    </tr>\n",
       "  </thead>\n",
       "  <tbody>\n",
       "    <tr>\n",
       "      <th>0</th>\n",
       "      <td>2500</td>\n",
       "    </tr>\n",
       "    <tr>\n",
       "      <th>1</th>\n",
       "      <td>2700</td>\n",
       "    </tr>\n",
       "    <tr>\n",
       "      <th>2</th>\n",
       "      <td>3200</td>\n",
       "    </tr>\n",
       "    <tr>\n",
       "      <th>3</th>\n",
       "      <td>4000</td>\n",
       "    </tr>\n",
       "    <tr>\n",
       "      <th>4</th>\n",
       "      <td>4500</td>\n",
       "    </tr>\n",
       "    <tr>\n",
       "      <th>5</th>\n",
       "      <td>4800</td>\n",
       "    </tr>\n",
       "    <tr>\n",
       "      <th>6</th>\n",
       "      <td>5000</td>\n",
       "    </tr>\n",
       "    <tr>\n",
       "      <th>7</th>\n",
       "      <td>5200</td>\n",
       "    </tr>\n",
       "    <tr>\n",
       "      <th>8</th>\n",
       "      <td>6000</td>\n",
       "    </tr>\n",
       "    <tr>\n",
       "      <th>9</th>\n",
       "      <td>8000</td>\n",
       "    </tr>\n",
       "    <tr>\n",
       "      <th>10</th>\n",
       "      <td>15000</td>\n",
       "    </tr>\n",
       "  </tbody>\n",
       "</table>\n",
       "</div>"
      ],
      "text/plain": [
       "    Salários\n",
       "0       2500\n",
       "1       2700\n",
       "2       3200\n",
       "3       4000\n",
       "4       4500\n",
       "5       4800\n",
       "6       5000\n",
       "7       5200\n",
       "8       6000\n",
       "9       8000\n",
       "10     15000"
      ]
     },
     "metadata": {},
     "output_type": "display_data"
    }
   ],
   "source": [
    "salarios = {'Salários': [2500, 2700,3200, 4000, 4500, 4800,5000, 5200, 6000, 8000, 15000]}\n",
    "df_salarios = pd.DataFrame(salarios)\n",
    "display(df_salarios)"
   ]
  },
  {
   "cell_type": "code",
   "execution_count": 26,
   "metadata": {},
   "outputs": [
    {
     "name": "stdout",
     "output_type": "stream",
     "text": [
      "Assimetria: 2.250352522796866\n",
      "Média: 5536.363636363636\n",
      "Mediana: 4800.0\n"
     ]
    }
   ],
   "source": [
    "#Calculo da assimetria\n",
    "assimetria = df_salarios['Salários'].skew() #Ele fará o cálculo de assimetria\n",
    "media=df_salarios['Salários'].mean()\n",
    "mediana=df_salarios['Salários'].median()\n",
    "print(f'Assimetria: {assimetria}')\n",
    "print(f'Média: {media}')\n",
    "print(f'Mediana: {mediana}')"
   ]
  },
  {
   "cell_type": "code",
   "execution_count": 27,
   "metadata": {},
   "outputs": [
    {
     "name": "stdout",
     "output_type": "stream",
     "text": [
      "Resultado: Distribuição assimétrica positiva\n"
     ]
    }
   ],
   "source": [
    "#Interpretação\n",
    "\n",
    "if -0.5 <= assimetria <= 0.5:\n",
    "    resultado = \"Distribuição Simétrica\"\n",
    "elif assimetria > 0.5:\n",
    "    resultado = \"Distribuição assimétrica positiva\"\n",
    "else:\n",
    "    resultado = \"Distribuição assimétrica negativa\"\n",
    "\n",
    "print(f'Resultado: {resultado}')"
   ]
  },
  {
   "cell_type": "markdown",
   "metadata": {},
   "source": [
    "*Curtose* é uma medida que mede o grau de concentração dos dados ao redor da média.\n",
    "No pandas, isso é visto pelo método kurtosis() e nos ajuda a ver os níveis de curtose que indicam a presença ou ausência de outliers.\n",
    "\n",
    "Como vou interpretar meus dados:\n",
    "\n",
    "1. Curtose >= 2.5 e curtose <= 3.5: MESOCÚRTICA (Distruição normal, dados bem distribuídos em torno da média);\n",
    "2. Curtose < 2.5: PLATICÚRTICA (dados mais dirpersos, presença comum de outliers);\n",
    "3. Curtose > 3.5: LEPTOCÚRTICA (dados mais concentrados, MUITO presenter);"
   ]
  },
  {
   "cell_type": "code",
   "execution_count": 29,
   "metadata": {},
   "outputs": [
    {
     "name": "stdout",
     "output_type": "stream",
     "text": [
      "Curtose: 5.832993558134647\n"
     ]
    }
   ],
   "source": [
    "#Calculando a curtose\n",
    "curtose = df_salarios['Salários'].kurtosis()\n",
    "print(f'Curtose: {curtose}')"
   ]
  },
  {
   "cell_type": "code",
   "execution_count": 31,
   "metadata": {},
   "outputs": [
    {
     "name": "stdout",
     "output_type": "stream",
     "text": [
      "Resultado: Distribuição Leptocúrtica\n"
     ]
    }
   ],
   "source": [
    "#Interpretando\n",
    "if 2.5 <= curtose <=3.5:\n",
    "    resultado2 = \"Distribuição Mesocúrtica\"\n",
    "elif curtose < 2.5:\n",
    "    resultado2 = \"Distribuição Platicútica\"\n",
    "else:\n",
    "    resultado2 = \"Distribuição Leptocúrtica\"\n",
    "\n",
    "print(f'Resultado: {resultado2}')"
   ]
  },
  {
   "cell_type": "markdown",
   "metadata": {},
   "source": [
    "Atividade: Atualize o resumo estatístico da sua amostra random com:\n",
    " Assimetria"
   ]
  },
  {
   "cell_type": "code",
   "execution_count": null,
   "metadata": {},
   "outputs": [
    {
     "data": {
      "text/plain": [
       "[40, 93, 85, 43, 82, 32, 90, 82, 47, 43, 7, 80, 74, 61, 81, 77, 96, 35, 5, 25]"
      ]
     },
     "metadata": {},
     "output_type": "display_data"
    }
   ],
   "source": [
    "dados_amostra=[random.randint(1,99) for i in range (20)]\n",
    "display(dados_amostra)"
   ]
  },
  {
   "cell_type": "code",
   "execution_count": null,
   "metadata": {},
   "outputs": [
    {
     "name": "stdout",
     "output_type": "stream",
     "text": [
      "Assimetria: -0.4687512521123131\n",
      "Média: 58.9\n",
      "Mediana: 67.5\n",
      "Resultado: Distribuição Simétrica\n",
      "Resultado: Distribuição Leptocúrtica\n"
     ]
    }
   ],
   "source": [
    "df_amostra = pd.DataFrame(dados_amostra, columns=['Valores'])\n",
    "\n",
    "#Calculo da assimetria\n",
    "assimetria = df_amostra['Valores'].skew() #Ele fará o cálculo de assimetria\n",
    "media= df_amostra['Valores'].mean()\n",
    "mediana= df_amostra['Valores'].median()\n",
    "print(f'Assimetria: {assimetria}')\n",
    "print(f'Média: {media}')\n",
    "print(f'Mediana: {mediana}')\n",
    "\n",
    "#Interpretação\n",
    "\n",
    "if -0.5 <= assimetria <= 0.5:\n",
    "    resultado = \"Distribuição Simétrica\"\n",
    "elif assimetria > 0.5:\n",
    "    resultado = \"Distribuição assimétrica positiva\"\n",
    "else:\n",
    "    resultado = \"Distribuição assimétrica negativa\"\n",
    "\n",
    "print(f'Resultado: {resultado}')\n",
    "\n",
    "#Interpretando\n",
    "if 2.5 <= curtose <=3.5:\n",
    "    resultado = \"Distribuição Mesocúrtica\"\n",
    "elif curtose < 2.5:\n",
    "    resultado = \"Distribuição Platicútica\"\n",
    "else:\n",
    "    resultado = \"Distribuição Leptocúrtica\"\n",
    "\n",
    "print(f'Resultado: {resultado}')"
   ]
  },
  {
   "cell_type": "code",
   "execution_count": 35,
   "metadata": {},
   "outputs": [
    {
     "data": {
      "image/png": "[encoded data removed]",
      "text/plain": [
       "<Figure size 640x480 with 1 Axes>"
      ]
     },
     "metadata": {},
     "output_type": "display_data"
    }
   ],
   "source": [
    "#Boxplot\n",
    "import matplotlib.pyplot as plt\n",
    "plt.boxplot(df_amostra['Valores'])\n",
    "plt.title('Boxplot dos Valores')\n",
    "plt.ylabel('Valores')\n",
    "\n",
    "plt.show()\n"
   ]
  }
 ],
 "metadata": {
  "kernelspec": {
   "display_name": "Python 3",
   "language": "python",
   "name": "python3"
  },
  "language_info": {
   "codemirror_mode": {
    "name": "ipython",
    "version": 3
   },
   "file_extension": ".py",
   "mimetype": "text/x-python",
   "name": "python",
   "nbconvert_exporter": "python",
   "pygments_lexer": "ipython3",
   "version": "3.11.4"
  }
 },
 "nbformat": 4,
 "nbformat_minor": 2
}
