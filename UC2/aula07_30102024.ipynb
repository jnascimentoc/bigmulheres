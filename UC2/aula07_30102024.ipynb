{
 "cells": [
  {
   "cell_type": "markdown",
   "metadata": {},
   "source": [
    "**Quartis em Código:**"
   ]
  },
  {
   "cell_type": "code",
   "execution_count": 8,
   "metadata": {},
   "outputs": [],
   "source": [
    "import pandas as pd\n",
    "import numpy as np\n",
    "import random"
   ]
  },
  {
   "cell_type": "code",
   "execution_count": 4,
   "metadata": {},
   "outputs": [
    {
     "name": "stdout",
     "output_type": "stream",
     "text": [
      "[54 99 63 13 26 75 15 17 13 21 94 89 74 94 29 10 28 37 78 40]\n"
     ]
    }
   ],
   "source": [
    "amostra=[random.randint(1,99) for i in range (20)]\n",
    "#print(amostra)\n",
    "dados = np.array(amostra)\n",
    "print(dados)"
   ]
  },
  {
   "cell_type": "code",
   "execution_count": null,
   "metadata": {},
   "outputs": [
    {
     "name": "stdout",
     "output_type": "stream",
     "text": [
      "Primeiro Quartil (Q1): 20.0\n",
      "Segundo Quartil (Q2): 38.5\n",
      "Terceiro Quartil (Q3): 75.75\n"
     ]
    }
   ],
   "source": [
    "#Calculo dos quartis:\n",
    "q1=np.percentile(dados,25)\n",
    "q2=np.percentile(dados,50)\n",
    "q3=np.percentile(dados,75)\n",
    "\n",
    "print(f\"Primeiro Quartil (Q1): {q1}\")\n",
    "print(f\"Segundo Quartil (Q2): {q2}\")\n",
    "print(f\"Terceiro Quartil (Q3): {q3}\")"
   ]
  },
  {
   "cell_type": "code",
   "execution_count": 15,
   "metadata": {},
   "outputs": [
    {
     "name": "stdout",
     "output_type": "stream",
     "text": [
      "Primeiro Quartil (Q1): 26.75\n",
      "Segundo Quartil (Q2): 38.0\n",
      "Terceiro Quartil (Q3): 46.25\n"
     ]
    }
   ],
   "source": [
    "#Calcule os Quartis do dataset nutricional trabalhado na aula anterior, exibido-os em seguida\n",
    "\n",
    "nutricional = pd.read_csv('C:\\\\Users\\\\unidade.copacabana\\\\Documents\\\\BigDataSenac\\\\arquivos\\\\weight_change_dataset.csv')\n",
    "dados = nutricional['Age'].to_numpy()\n",
    "\n",
    "# Calcular os quartis\n",
    "q1 = np.percentile(dados, 25)\n",
    "q2 = np.percentile(dados, 50)\n",
    "q3 = np.percentile(dados, 75)\n",
    "\n",
    "# Exibir os resultados\n",
    "print(f\"Primeiro Quartil (Q1): {q1}\")\n",
    "print(f\"Segundo Quartil (Q2): {q2}\")\n",
    "print(f\"Terceiro Quartil (Q3): {q3}\")\n",
    "\n"
   ]
  },
  {
   "cell_type": "markdown",
   "metadata": {},
   "source": [
    "**Gráficos - Biblioteca MatPlotLib**"
   ]
  },
  {
   "cell_type": "code",
   "execution_count": 6,
   "metadata": {},
   "outputs": [],
   "source": [
    " # Importar a biblioteca no terminal\n",
    "import matplotlib.pyplot as plt"
   ]
  }
 ],
 "metadata": {
  "kernelspec": {
   "display_name": "Python 3",
   "language": "python",
   "name": "python3"
  },
  "language_info": {
   "codemirror_mode": {
    "name": "ipython",
    "version": 3
   },
   "file_extension": ".py",
   "mimetype": "text/x-python",
   "name": "python",
   "nbconvert_exporter": "python",
   "pygments_lexer": "ipython3",
   "version": "3.11.4"
  }
 },
 "nbformat": 4,
 "nbformat_minor": 2
}
