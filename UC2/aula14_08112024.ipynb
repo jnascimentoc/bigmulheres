{
 "cells": [
  {
   "cell_type": "markdown",
   "metadata": {},
   "source": [
    "**BIG DATA: Pré-processamento de Dados**\n",
    "\n",
    "Download Dados Bolsa Família (recomendação: faça a transferência pelo menos dos últimos 6 meses)\n",
    "\n",
    "Fonte: https://portaldatransparencia.gov.br/download-de-dados/novo-bolsa-familia\n",
    "\n",
    "Após essa etapa, concatene em um dataframe 2 meses aleatórios dessa fonte (mês a mês).\n",
    "\n",
    "Vamos comparar o tempo de processamento das bibliotecas Pandas e Polars:"
   ]
  },
  {
   "cell_type": "markdown",
   "metadata": {},
   "source": [
    "PANDAS\n",
    "\n",
    "![panda](data:image/png;base64,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)"
   ]
  },
  {
   "cell_type": "code",
   "execution_count": 5,
   "metadata": {},
   "outputs": [
    {
     "data": {
      "text/html": [
       "<div>\n",
       "<style scoped>\n",
       "    .dataframe tbody tr th:only-of-type {\n",
       "        vertical-align: middle;\n",
       "    }\n",
       "\n",
       "    .dataframe tbody tr th {\n",
       "        vertical-align: top;\n",
       "    }\n",
       "\n",
       "    .dataframe thead th {\n",
       "        text-align: right;\n",
       "    }\n",
       "</style>\n",
       "<table border=\"1\" class=\"dataframe\">\n",
       "  <thead>\n",
       "    <tr style=\"text-align: right;\">\n",
       "      <th></th>\n",
       "      <th>MÊS COMPETÊNCIA</th>\n",
       "      <th>MÊS REFERÊNCIA</th>\n",
       "      <th>UF</th>\n",
       "      <th>CÓDIGO MUNICÍPIO SIAFI</th>\n",
       "      <th>NOME MUNICÍPIO</th>\n",
       "      <th>CPF FAVORECIDO</th>\n",
       "      <th>NIS FAVORECIDO</th>\n",
       "      <th>NOME FAVORECIDO</th>\n",
       "      <th>VALOR PARCELA</th>\n",
       "    </tr>\n",
       "  </thead>\n",
       "  <tbody>\n",
       "    <tr>\n",
       "      <th>0</th>\n",
       "      <td>202401</td>\n",
       "      <td>202303</td>\n",
       "      <td>AC</td>\n",
       "      <td>139</td>\n",
       "      <td>RIO BRANCO</td>\n",
       "      <td>***.511.972-**</td>\n",
       "      <td>1.629112e+10</td>\n",
       "      <td>JANAINA FERREIRA DA SILVA</td>\n",
       "      <td>800,00</td>\n",
       "    </tr>\n",
       "    <tr>\n",
       "      <th>1</th>\n",
       "      <td>202401</td>\n",
       "      <td>202303</td>\n",
       "      <td>BA</td>\n",
       "      <td>3329</td>\n",
       "      <td>ANGUERA</td>\n",
       "      <td>***.909.745-**</td>\n",
       "      <td>2.047443e+10</td>\n",
       "      <td>TACIANE MARQUES DA SILVA</td>\n",
       "      <td>750,00</td>\n",
       "    </tr>\n",
       "    <tr>\n",
       "      <th>2</th>\n",
       "      <td>202401</td>\n",
       "      <td>202303</td>\n",
       "      <td>BA</td>\n",
       "      <td>3731</td>\n",
       "      <td>MONTE SANTO</td>\n",
       "      <td>***.872.338-**</td>\n",
       "      <td>2.019538e+10</td>\n",
       "      <td>MAILSON DOS SANTOS SILVA</td>\n",
       "      <td>650,00</td>\n",
       "    </tr>\n",
       "    <tr>\n",
       "      <th>3</th>\n",
       "      <td>202401</td>\n",
       "      <td>202303</td>\n",
       "      <td>BA</td>\n",
       "      <td>3761</td>\n",
       "      <td>NOVA VICOSA</td>\n",
       "      <td>***.665.905-**</td>\n",
       "      <td>1.272359e+10</td>\n",
       "      <td>IRENI RICARDO GERALDO</td>\n",
       "      <td>650,00</td>\n",
       "    </tr>\n",
       "    <tr>\n",
       "      <th>4</th>\n",
       "      <td>202401</td>\n",
       "      <td>202303</td>\n",
       "      <td>BA</td>\n",
       "      <td>3849</td>\n",
       "      <td>SALVADOR</td>\n",
       "      <td>***.932.435-**</td>\n",
       "      <td>2.002458e+10</td>\n",
       "      <td>ELIENE GOMES DOS SANTOS</td>\n",
       "      <td>850,00</td>\n",
       "    </tr>\n",
       "  </tbody>\n",
       "</table>\n",
       "</div>"
      ],
      "text/plain": [
       "   MÊS COMPETÊNCIA  MÊS REFERÊNCIA  UF  CÓDIGO MUNICÍPIO SIAFI NOME MUNICÍPIO  \\\n",
       "0           202401          202303  AC                     139     RIO BRANCO   \n",
       "1           202401          202303  BA                    3329        ANGUERA   \n",
       "2           202401          202303  BA                    3731    MONTE SANTO   \n",
       "3           202401          202303  BA                    3761    NOVA VICOSA   \n",
       "4           202401          202303  BA                    3849       SALVADOR   \n",
       "\n",
       "   CPF FAVORECIDO  NIS FAVORECIDO            NOME FAVORECIDO VALOR PARCELA  \n",
       "0  ***.511.972-**    1.629112e+10  JANAINA FERREIRA DA SILVA        800,00  \n",
       "1  ***.909.745-**    2.047443e+10   TACIANE MARQUES DA SILVA        750,00  \n",
       "2  ***.872.338-**    2.019538e+10   MAILSON DOS SANTOS SILVA        650,00  \n",
       "3  ***.665.905-**    1.272359e+10      IRENI RICARDO GERALDO        650,00  \n",
       "4  ***.932.435-**    2.002458e+10    ELIENE GOMES DOS SANTOS        850,00  "
      ]
     },
     "metadata": {},
     "output_type": "display_data"
    },
    {
     "name": "stdout",
     "output_type": "stream",
     "text": [
      "Tempo de execução com Pandas: 6.658054828643799 segundos\n"
     ]
    }
   ],
   "source": [
    "#IMPORTANTE: utilize os dados de 2 meses para evitar a sobrecarga do programa!\n",
    "\n",
    "import pandas as pd\n",
    "import time\n",
    "\n",
    "arquivo1=pd.read_csv(\"202401_NovoBolsaFamilia.csv\", sep=\";\", encoding=\"latin-1\") #caminhos dos arquivos\n",
    "arquivo2=pd.read_csv(\"202402_NovoBolsaFamilia.csv\", sep=\";\", encoding=\"latin-1\")\n",
    "\n",
    "inicio_tempo=time.time() #marcação do tempo de processamento\n",
    "df_pandas=pd.concat([arquivo1,arquivo2])\n",
    "\n",
    "display(df_pandas.head())\n",
    "\n",
    "print(\"Tempo de execução com Pandas:\", time.time() - inicio_tempo, \"segundos\") "
   ]
  },
  {
   "cell_type": "markdown",
   "metadata": {},
   "source": [
    "POLARS\n",
    "\n",
    "![polar](data:image/jpeg;base64,/9j/4AAQSkZJRgABAQAAAQABAAD/2wCEAAkGBxISEA8PDw8QDxUQEBAPDw8PDw8QDw8PFRUXFhURFRUYHiggGBolGxUVITEhJSkrLi4uFx8zODMsNysuLisBCgoKDQ0OFQ8QFy0dHR0rKystKysrKystLS0rKysrLS0tLSstLSstLSsrLSsrKys3LS03LS0tKy0tKysrLS0rK//AABEIAOEA4QMBIgACEQEDEQH/xAAcAAEAAgIDAQAAAAAAAAAAAAAAAQIEBQMGBwj/xABQEAACAgEBBAYFCAYECQ0AAAABAgADEQQFEiExE0FRYXGBBgcikaEUIzJSYoKSwTNCU3KxwzRjosJDVHSDk6Oz0vAVFyREZJSytMTR0+Hx/8QAGAEBAQEBAQAAAAAAAAAAAAAAAAECAwT/xAAgEQEBAAICAwEAAwAAAAAAAAAAAQIRAyESMTJRIkFx/9oADAMBAAIRAxEAPwDoMsJWSJHpWzJkSVkqrrLSoMGRQyhljKGUJERKKWNgHunDL3nkO/8Ah/wJxmEDJlRLQhLgSoE5BAmIkgQKwJYiRCgk4kCTAjEjEtiRCqkTiUcz2/wH/B985zOIwlUcZ4e/wlgIkwhEmRA5RLyksIFpIlZYSaFsyCZESrsiIgQZEmQ0gxmOSe7A/M/lMvZeytRqn6LS0WXuBvFawMKvazMQqjnzIziYYPDPaSfLq+GJ9GernYiaTZ+nVQN+6tNRe45vbYobGesKCFHcsrGWWo8G2v6OavSjOq01lS53Q+a7K8nkCyEgE9hwZrBPp/byUmphqDVuOOjdbSoWxTw3ePOeDp6CbQe21dPo7nqW62uu2010h6lcqlnzrKWBXByAc5hnHPft1wSwnetP6ptot9NtHWO++1m9y1kfGXt9Ue0B9G3Qt43ahT/sjDXlHQ5cTt9vqw2moJ6KizHVVqFyfDfCzSbT9G9bp1LajR31qoJZtzpEUDmS9ZZR74WZT9avPIdvIdsoCDnjy4HuPZPoD1eeiqaLTI7IPlFyq99hALJkZFKnqVeXecmW9N/RajWVneRVu3GFOoC4dHH0ckfSXPNT/HjDF5e3z+BBEtgjgwwRwYdjDmPfIh1ViSZEKoxlGkjiSfIeA/8AvPwkNDKBLCQJdYDEiXiNiBLKZQGXEC0mQJMBmBEkQERECDOK5sAnsE5TOfZWyLtZcum0yb7vg8SQiICN53bB3VHb5DJIEF6YOm07uyVVo1jsQqIilnY9gA5z6B9CNBr00On0+rNem6FBWvRlbdQah+jVsgohVcLw384zwMyfQz0Oo2fXhB0tzj57UsoDufqr9RB1KPPJ4zskOOWW2LpdnV1kuq5c8Da5L2t4u2Tju5TKiIYIiICUvpDo6MMq6sjDJGVYYIyO4y8QJms2zqlrRrHIVaq3tcnkFUZJ9wmymp25sxb0eu0F63x0iAkbyjjuNjjunAz2wmT5uNhYlmGCxLMOeGbifiYncPTX0JbSA6jT71un5uDlrNMO1j+sn2uY6+GWnUMQ9OOUs6VM47DgE9gJnKZwaj6LeENIXgAOyQYzJAhEgSwEYlxAjdkxmTCuHMuJWXUQiwkyBJkoSRKyRFAxEiILKpJVVBZmZURRzZ2ICqO8kgec+gPQL0VXZ+mCkK19uH1Ng45fqrU/UXkO3ieZnSPU76NCx32jcuVqY1aUHkbcfOXfdzujv3+wT12Vxzy30REQwREQEREBERAREQMDV6fHVlTwI547vCeM+sH0T+Sv8poXGnsbDIOWntJ+j3ITy7Dw+rPdHXIIPXNPtHQrYllFq76WKUdT+sphmW43cfORnDeRutnsM2e3dltpdRbpnOTW3svy36yMo/mCM9+R1TVajl5gnwHH8oeuWWbUWciiUE5FgTiWxJEra2FJHPHDx6pFN4dsmcPyFIl0nkvLLIkrAtJzKiTJQkxGJAMlUJIVRvMxCov1nJwq+ZIEidk9XOg6faekUjIrZtQ/cKhlT+M1++WFupt7n6P7LXS6XT6ZeVNaoT9Z+bue8sSfObBjw7e7t7olLqgylSWAPWjujeTKQR75XmYw1r9elvH3tKf4WTrO0fWfszT3WafU32U2VNu2I2nubdbnjKAg8+qbrW0U0jesbWYALFhqdeygfaIfA59c0d/o7obn+WHZu853bPlWuutoIKYCsWZjYCMDB3eqB2kbRX6l/LP9Hv8A92XuvYVO4rJZQzBBklgDw4YzkjjjynUT6TbMRmGo2pQDy3KtpayzdPXlhZj4Cdk2Nt3Sapf+iaqnUBQA3R2h3X94ZyPEwMkahgbt5GwjqqbiMzOpRTvcOftFh92avbvpbpdHWLtY1tCM4rV2095BcgkLwUnkp903GppLDAserjner6PJ7vbUjHlOuelvotRrKBRrr9XZXvhxuJRlLACA+8lOV4Ejs4wMjYXpno9arvo7Lb1rYK5TTan2WIyBxXsmzO01/Z6j/uuo/wB2dd9EfRTS6Ot6dna64Kz9JYFfRXOWwF9otUSOXKdhGgs/x3U/g0X/AMMDNU5APHiM8Rg+YkylFZVQpdrCP13CBj47oA9wl4CY+sryM9n8JkQYSzbyX1vbHzXTrkXjURRcR11Ofm2Pbuucf50zyu4cD4ET6Q2zs1b6b9NZndtR6yesBhgMO8cD5T5z1FLI712DDVu1bj7aEq3xBh04cutOMCXSVl64dlxKWDl+8Pgc/lOSMQqIk7siNooYgxiQSDJEgS0URJgSZFRPSvUhos363UEfo6qqUbvsZmsH+rr9882xPaPUvpN3QWW/t9VY33UVa8DzRveZY55+nfpx6i5URnc4CjJOCT5Acz3TkmBqDv6iurqqUaiwdrElaQe7K2N4osriabTM7C68e0ONVOcrQO09TWY5t1ch1lujeuP0M1u0U0/yO0Fat/pNK9hrWxjgrYOosMY9rlnh1z0iIHyv/wA0+2c4+QHnz6fS48fpzu/q29VW0NLrqNbqLK9MtJLFK7BZbaCMGs7vshTnjxPhPcYgIiIDHXjz64iICIiAiIgYeuTiG8jPBvWXoOh2lcQOF616leHAFgUYfirY/en0Bqlyp7uPunkXrn0v9Bv5YN9B7ywV1924/vgwus/9eaCciSgnIkPTF5IEgS6zKnlJkYkwMeJJjEqIAloEmAiTAkET371Y6fc2ToxxO8tlvH+std/708BZsAnsn0l6K6fo9Doqx+ppdOvurWWOfLfTaTA0DBr9Y3WllVH3VpS0D33t75nzX6LC6jVp9foNR+JDT/6f4yuTYREQEREBERAREQEREBERAETzX1u6YHZ++edGppcfeJp/mT0qdR9Ymm3tn7QUDJGne1RjOWQdIMeawnqyvAROVZxLOYRXqWlhKy6iZESZbEiFY8CAJMqJkiBEipMrmWM406/E/DhCK6o+w+PqNjxwZ9S6RN2utfqoi+4ATwb0L9Cbtobz73Q0K241xUsbGHNK14Zx1tyB4cTkD3ypSAATvEDBOAM+QmnLku6tMHVoVvpuUEg72ntwM4VvaRz4OuO4WEzOiHMiIgImKdADxey5jnn01iDwxWVHwk16IKQUe0cclTa9it3YcnHliBkxEQEREBErZYFBZiFCjLMxAUDtJPKYf/K1ZOEFtvI71VFz1nwsxuHyMDOiYH/Kqj6VOpUdvyexh/YBMzweuAms2zRvq6HlZW6HzBH5zZzF1w+iewmGcvT5cpU4G9zAAPj1znAmbt7TdHq9XXy3dTeAOxTYxX4ETDivVj3FgJcSqicgEypiRLRCsXEmJJEFRLSoEvCIM2HojsVtbqadKhKhgbLXGPm6Fxvv4+0qjvZZr2E9i9S+xOi0R1bD29Xu7h6xp04J72328CvZLGcrqO96HRpTVXTSoRK1CIo5BROeIlcCJx36hU3S53QzBASDuhjyBPIZPDj1kDmROSAiIgIiICIiAmNrNUV3VRd+x87iZwMDm7H9VBkZOOsAZJAnJqtQtaPY+QqKWOASeHUAOJJ5ADmTODZ1DAGy0DpLcFwDkVr+rUD2KD5kseuBFezgWD3np3Byu8Pm627a6+Sn7Ry3fM6REBERATg1o9nzE55xaoewfL+MJfTwH1i6fc2nqf6wU2jwNaqf7SNOuid39b2mA1mnt/a6Yp/orCf5wnSFh347vGOQS4lVlwJltESYhpjGSJWSDDK0SQYJgWooNjpUvA2OlSnsZ2Cj4kT6b0OlWqqqmsYWqtKkHYqAKPgJ8+ehNW/tLQqRn54v51o9g+KCfRMscuS9kRErmrZWGBVgGDAqysAQyngQR1iYOjY1P8nclgQW07tkkoOdLHrZeoniV7SrGbCcGu0++mAd1lIet/qWD6J8OojrBI64HPE4dFqOkQPjdPFXQ80dThlPgQRnrlNTtCqs7r2AMRkVqC9pHaEXLHyEDJia87SckdHpNS4IzvkU0qPFbXVx+GW+V3delfwW6gt8SB8YGdEwRtVBjplfTk4/TqAuTyHSKTXnu3szLvuVEax2Cqis7MeQRRkn3CBg6gdLetfNNPu3WdjXH9En3cFz39GZsZh7JqYVBrBu2Wk3Wg4yrv8AqHt3V3U+4JmQEREBERASl49lvAy8hxwPgYK8o9cVQ6LRWdYusqB7nr3z/sh7p5oonr/rS0+9s8vjJpupsHdk9GT7rDPIFkrpw3+K4lxKCWEjqnMSMxCsaSsrmSsI5BBjMiFdk9XaZ2npfs9O3+osH5z39TwE+fvV9Zu7T0n2jevvosI+IHvnv2mbKL4Y90sefk+nJERKyQx4HhnuGMnu4xEDVV7Psd7LLHalbd0tp6XwSQN3fe0YbeKhAQuAN0DLczn6XSV1giqtKweJ3FC7x7Tjme8zmiAiIgCM8CM54EHkRNFqNnbttVFLbtNpNl2nIyiV14bNX1AzFFKciGOADnO9mv2W3SNdqP1Wboqe+qskFvvOXIPWu6YGxkREBERAREq1gGASBvHdXJ5nBOB34BPlAtERA6l6Z6ff2frkHP5Pay/vICw+KieFAT6L11O8LazxDh0I7mBH5z51qU7ozzAAPiOcla4f7iZYQJYSO6sS8QumFiWWRiWWEWgQFloVmbF13QarTag8qrkZu6snds/sFp9FaB+a+Y8J80OM8J7X6vttdPo6mJzZRii7PMlQN1j+8u6fEnsljhzTuZO7xK1uGGR/+S0rBERAREQERK2WBRkwMPbFzCsV1Nu2Xnoa2HOskEtb2eyoZuPAkAdcy9PSqIlaKFVFVEUclRRgAeAAmr2QWusfWNkKy9FpFP7HOWu/zhAP7qIeGSJt4CIiAiIgJq9ptvajQoDxW629h9haLU/8VtfwmxutCjPuHbNVshekuu1J4hc6ak8OOGzc47i4Vcf1OeuEbiIiFa7UD228cz5/2xTu6nVr9XVakeQtfE+gdZ9M+X8J4d6YV7u0NauMfOhvx1pZn+3JV4fqtIBLSSI3ZHqIlog2wJZZWXWEXESwEAQpidh9ANbdVrq1oU2C5XS6kc3rRGs3l+2uDjt3iOGcjrxndfVDpy20mfqr0lx8HZ6lX4F5YxyfNepaTU5C2VtvBhkHjgjvE2VOoDdx7D+U1+s2aysbdPgFjvW0scV2n66n9R+XHkesZ9ocFGqVmKHKOBlqnG7YB246x9oZHfK8ncbyJrEtYcmM5Bqm7R7oXyZ8E9s151L9uPITg1F4UF7HAA5sxwB5mDyZ1urA4Lx7+qarcOqdqzxpQlb26rWHPTr3fXP3eZbdw9fZa6g9FfXQ2RZbWrfKSOH0ax7aIeI3gN4dQXgw2mztWvRoKTWa1AROjxuKF4boxyx2Qm/1tgImKus7V9xl11a948oa3HPE4vlC/W+BlX1ajlkwbjnnFdcF7z2TGs1THl7PhzmubUl2NenAtcHdd+PQ0nrNjdZH1B7R4chxBny/E6257HFFZIssGWcf9Xp5G09/Uo627g2N1pqFrRK0G6qKFVR1KBgTh2doVqUgEuzHetsb6Vj4xk9g6gBwA4TKhqQiIhWBrR7fkJ476x6Au0XIGOlootJ7T7VWfdUPdPY9b9L7o/OeWetSvGp07YHtUMuev2Hz/M+MU4/t0nEmSBJAmXrRiJfciBrMS9coJdZEcgkzjBl8yqGelepOj29fb9jTVr77mb+77p5qZ6r6k0+Z1zf9orr/AA1hv5kRjk+XpM4NXo67QFtrWwA7y7wBKt9ZTzB7xOeJp52rfZBH6G+xexLR06DvyxFh/HKfIdT+007d/RWr8N8zbxCajULs/UH6V9SDr6Oli/kzNgeamZOl2VWjBzvWuOVtzb7A/ZH0U+6BM6INQmFqdk0uxsKbrnGba2aqxsct5lI3h3NkTNiFaptnWr9C9XHZdUN4/erKgfhnGaNSP8FQ37uocH3Gv85uYhPGNLu6j/Fx/p0/9o+T6o/4Oivva53I+6EGfxCbqIPGNUmx2b9PezjrrqBoqPjglz4b+D1ibKilUVURVRVGFRFCqo7AByl4hSIiAiIgYOt+l90fxM8z9a9fzmhfq3NUp8SaCP4Gema36XkPznn/AK1E+a0jdlzp+Ksn+5CYfcedgSQJIETL2EScxA1MsIiEiVl4iFWE9X9SX9F13+Wj/wAvTERGOT09GiIleciIgIiICIiAiIgIiICIiWhERIEREDB1v0/uidC9av8AR9J/lf8AIuiJWcPuPO5ERMvaREQP/9k=)"
   ]
  },
  {
   "cell_type": "code",
   "execution_count": 6,
   "metadata": {},
   "outputs": [
    {
     "data": {
      "text/html": [
       "<div><style>\n",
       ".dataframe > thead > tr,\n",
       ".dataframe > tbody > tr {\n",
       "  text-align: right;\n",
       "  white-space: pre-wrap;\n",
       "}\n",
       "</style>\n",
       "<small>shape: (5, 9)</small><table border=\"1\" class=\"dataframe\"><thead><tr><th>MÊS COMPETÊNCIA</th><th>MÊS REFERÊNCIA</th><th>UF</th><th>CÓDIGO MUNICÍPIO SIAFI</th><th>NOME MUNICÍPIO</th><th>CPF FAVORECIDO</th><th>NIS FAVORECIDO</th><th>NOME FAVORECIDO</th><th>VALOR PARCELA</th></tr><tr><td>i64</td><td>i64</td><td>str</td><td>i64</td><td>str</td><td>str</td><td>i64</td><td>str</td><td>str</td></tr></thead><tbody><tr><td>202401</td><td>202303</td><td>&quot;AC&quot;</td><td>139</td><td>&quot;RIO BRANCO&quot;</td><td>&quot;***.511.972-**&quot;</td><td>16291115205</td><td>&quot;JANAINA FERREIRA DA SILVA&quot;</td><td>&quot;800,00&quot;</td></tr><tr><td>202401</td><td>202303</td><td>&quot;BA&quot;</td><td>3329</td><td>&quot;ANGUERA&quot;</td><td>&quot;***.909.745-**&quot;</td><td>20474429886</td><td>&quot;TACIANE MARQUES DA SILVA&quot;</td><td>&quot;750,00&quot;</td></tr><tr><td>202401</td><td>202303</td><td>&quot;BA&quot;</td><td>3731</td><td>&quot;MONTE SANTO&quot;</td><td>&quot;***.872.338-**&quot;</td><td>20195376298</td><td>&quot;MAILSON DOS SANTOS SILVA&quot;</td><td>&quot;650,00&quot;</td></tr><tr><td>202401</td><td>202303</td><td>&quot;BA&quot;</td><td>3761</td><td>&quot;NOVA VICOSA&quot;</td><td>&quot;***.665.905-**&quot;</td><td>12723589082</td><td>&quot;IRENI RICARDO GERALDO&quot;</td><td>&quot;650,00&quot;</td></tr><tr><td>202401</td><td>202303</td><td>&quot;BA&quot;</td><td>3849</td><td>&quot;SALVADOR&quot;</td><td>&quot;***.932.435-**&quot;</td><td>20024584007</td><td>&quot;ELIENE GOMES DOS SANTOS&quot;</td><td>&quot;850,00&quot;</td></tr></tbody></table></div>"
      ],
      "text/plain": [
       "shape: (5, 9)\n",
       "┌────────────┬────────────┬─────┬────────────┬───┬────────────┬────────────┬───────────┬───────────┐\n",
       "│ MÊS COMPET ┆ MÊS        ┆ UF  ┆ CÓDIGO     ┆ … ┆ CPF        ┆ NIS        ┆ NOME FAVO ┆ VALOR     │\n",
       "│ ÊNCIA      ┆ REFERÊNCIA ┆ --- ┆ MUNICÍPIO  ┆   ┆ FAVORECIDO ┆ FAVORECIDO ┆ RECIDO    ┆ PARCELA   │\n",
       "│ ---        ┆ ---        ┆ str ┆ SIAFI      ┆   ┆ ---        ┆ ---        ┆ ---       ┆ ---       │\n",
       "│ i64        ┆ i64        ┆     ┆ ---        ┆   ┆ str        ┆ i64        ┆ str       ┆ str       │\n",
       "│            ┆            ┆     ┆ i64        ┆   ┆            ┆            ┆           ┆           │\n",
       "╞════════════╪════════════╪═════╪════════════╪═══╪════════════╪════════════╪═══════════╪═══════════╡\n",
       "│ 202401     ┆ 202303     ┆ AC  ┆ 139        ┆ … ┆ ***.511.97 ┆ 1629111520 ┆ JANAINA   ┆ 800,00    │\n",
       "│            ┆            ┆     ┆            ┆   ┆ 2-**       ┆ 5          ┆ FERREIRA  ┆           │\n",
       "│            ┆            ┆     ┆            ┆   ┆            ┆            ┆ DA SILVA  ┆           │\n",
       "│ 202401     ┆ 202303     ┆ BA  ┆ 3329       ┆ … ┆ ***.909.74 ┆ 2047442988 ┆ TACIANE   ┆ 750,00    │\n",
       "│            ┆            ┆     ┆            ┆   ┆ 5-**       ┆ 6          ┆ MARQUES   ┆           │\n",
       "│            ┆            ┆     ┆            ┆   ┆            ┆            ┆ DA SILVA  ┆           │\n",
       "│ 202401     ┆ 202303     ┆ BA  ┆ 3731       ┆ … ┆ ***.872.33 ┆ 2019537629 ┆ MAILSON   ┆ 650,00    │\n",
       "│            ┆            ┆     ┆            ┆   ┆ 8-**       ┆ 8          ┆ DOS       ┆           │\n",
       "│            ┆            ┆     ┆            ┆   ┆            ┆            ┆ SANTOS    ┆           │\n",
       "│            ┆            ┆     ┆            ┆   ┆            ┆            ┆ SILVA     ┆           │\n",
       "│ 202401     ┆ 202303     ┆ BA  ┆ 3761       ┆ … ┆ ***.665.90 ┆ 1272358908 ┆ IRENI     ┆ 650,00    │\n",
       "│            ┆            ┆     ┆            ┆   ┆ 5-**       ┆ 2          ┆ RICARDO   ┆           │\n",
       "│            ┆            ┆     ┆            ┆   ┆            ┆            ┆ GERALDO   ┆           │\n",
       "│ 202401     ┆ 202303     ┆ BA  ┆ 3849       ┆ … ┆ ***.932.43 ┆ 2002458400 ┆ ELIENE    ┆ 850,00    │\n",
       "│            ┆            ┆     ┆            ┆   ┆ 5-**       ┆ 7          ┆ GOMES DOS ┆           │\n",
       "│            ┆            ┆     ┆            ┆   ┆            ┆            ┆ SANTOS    ┆           │\n",
       "└────────────┴────────────┴─────┴────────────┴───┴────────────┴────────────┴───────────┴───────────┘"
      ]
     },
     "metadata": {},
     "output_type": "display_data"
    },
    {
     "name": "stdout",
     "output_type": "stream",
     "text": [
      "Tempo de execução com Polars: 0.08762693405151367 segundos\n"
     ]
    }
   ],
   "source": [
    "import polars as pl\n",
    "\n",
    "arquivo1=pl.read_csv(\"202401_NovoBolsaFamilia.csv\", separator=\";\", encoding=\"latin-1\") #caminhos dos arquivos\n",
    "arquivo2=pl.read_csv(\"202402_NovoBolsaFamilia.csv\", separator=\";\", encoding=\"latin-1\")\n",
    "\n",
    "inicio_tempo=time.time() #marcação do tempo de processamento\n",
    "df_polars=pl.concat([arquivo1,arquivo2])\n",
    "\n",
    "display(df_polars.head())\n",
    "\n",
    "print(\"Tempo de execução com Polars:\", time.time() - inicio_tempo, \"segundos\") "
   ]
  },
  {
   "cell_type": "markdown",
   "metadata": {},
   "source": [
    "PARQUET: formato para otimizar o processamentos doa dados."
   ]
  },
  {
   "cell_type": "code",
   "execution_count": 7,
   "metadata": {},
   "outputs": [],
   "source": [
    "import pandas as pd\n",
    "import polars as pl\n",
    "import time"
   ]
  },
  {
   "cell_type": "code",
   "execution_count": 11,
   "metadata": {},
   "outputs": [
    {
     "name": "stdout",
     "output_type": "stream",
     "text": [
      "Tempo de exportação com Pandas: 0.0 segundos\n",
      "202401_NovoBolsaFamilia_pandas.parquet\n"
     ]
    }
   ],
   "source": [
    "#Exportação para .parquet com Pandas:\n",
    "\n",
    "inicio_tempo=time.time()\n",
    "parquet1=df_pandas.to_parquet=(\"202401_NovoBolsaFamilia_pandas.parquet\")\n",
    "print(\"Tempo de exportação com Pandas:\", time.time() - inicio_tempo, \"segundos\")\n",
    "print(parquet1)"
   ]
  },
  {
   "cell_type": "code",
   "execution_count": 12,
   "metadata": {},
   "outputs": [
    {
     "name": "stdout",
     "output_type": "stream",
     "text": [
      "Tempo de exportação com Polars: 0.0 segundos\n",
      "202401_NovoBolsaFamilia_polars.parquet\n"
     ]
    }
   ],
   "source": [
    "#Exportação para .parquet com Polars:\n",
    "\n",
    "inicio_tempo=time.time()\n",
    "parquet2=df_polars.write_parquet=(\"202401_NovoBolsaFamilia_polars.parquet\")\n",
    "print(\"Tempo de exportação com Polars:\", time.time() - inicio_tempo, \"segundos\") \n",
    "print(parquet2)"
   ]
  }
 ],
 "metadata": {
  "kernelspec": {
   "display_name": "virtual1",
   "language": "python",
   "name": "python3"
  },
  "language_info": {
   "codemirror_mode": {
    "name": "ipython",
    "version": 3
   },
   "file_extension": ".py",
   "mimetype": "text/x-python",
   "name": "python",
   "nbconvert_exporter": "python",
   "pygments_lexer": "ipython3",
   "version": "3.11.4"
  },
  "orig_nbformat": 4
 },
 "nbformat": 4,
 "nbformat_minor": 2
}
