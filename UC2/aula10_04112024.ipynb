{
 "cells": [
  {
   "cell_type": "code",
   "execution_count": 1,
   "metadata": {},
   "outputs": [],
   "source": [
    "import pandas as pd\n",
    "import numpy as np"
   ]
  },
  {
   "cell_type": "code",
   "execution_count": 2,
   "metadata": {},
   "outputs": [],
   "source": [
    "amostra=np.array([2500,3200,2700,3000,3400,3700,4500,4700,5000,5200,6000,7000])"
   ]
  },
  {
   "cell_type": "code",
   "execution_count": 3,
   "metadata": {},
   "outputs": [
    {
     "name": "stdout",
     "output_type": "stream",
     "text": [
      "4241.666666666667\n"
     ]
    }
   ],
   "source": [
    "media=np.mean(amostra)\n",
    "print(media)\n",
    "#media=sum"
   ]
  },
  {
   "cell_type": "code",
   "execution_count": 4,
   "metadata": {},
   "outputs": [
    {
     "data": {
      "text/plain": [
       "[np.float64(-1741.666666666667),\n",
       " np.float64(-1041.666666666667),\n",
       " np.float64(-1541.666666666667),\n",
       " np.float64(-1241.666666666667),\n",
       " np.float64(-841.666666666667),\n",
       " np.float64(-541.666666666667),\n",
       " np.float64(258.33333333333303),\n",
       " np.float64(458.33333333333303),\n",
       " np.float64(758.333333333333),\n",
       " np.float64(958.333333333333),\n",
       " np.float64(1758.333333333333),\n",
       " np.float64(2758.333333333333)]"
      ]
     },
     "metadata": {},
     "output_type": "display_data"
    }
   ],
   "source": [
    "#diferenças em relação a média\n",
    "diferencas=[x - media for x in amostra]\n",
    "display(diferencas)\n"
   ]
  },
  {
   "cell_type": "code",
   "execution_count": 5,
   "metadata": {},
   "outputs": [
    {
     "data": {
      "text/plain": [
       "[np.float64(3029161.1111111124),\n",
       " np.float64(1080827.7777777782),\n",
       " np.float64(2372494.4444444454),\n",
       " np.float64(1537494.4444444452),\n",
       " np.float64(704161.1111111117),\n",
       " np.float64(289161.1111111114),\n",
       " np.float64(62494.444444444285),\n",
       " np.float64(205827.77777777752),\n",
       " np.float64(570827.7777777774),\n",
       " np.float64(914161.1111111105),\n",
       " np.float64(3087494.4444444436),\n",
       " np.float64(7604161.111111109)]"
      ]
     },
     "metadata": {},
     "output_type": "display_data"
    }
   ],
   "source": [
    "quadrados_das_diferencas=[x**2 - media for x in diferencas]\n",
    "display(quadrados_das_diferencas)"
   ]
  },
  {
   "cell_type": "code",
   "execution_count": 6,
   "metadata": {},
   "outputs": [
    {
     "name": "stdout",
     "output_type": "stream",
     "text": [
      "1788188.888888889\n"
     ]
    }
   ],
   "source": [
    "#calcular a média dos quadrados das diferencas:\n",
    "variancia=sum(quadrados_das_diferencas)/len(quadrados_das_diferencas)\n",
    "print(variancia)"
   ]
  },
  {
   "cell_type": "code",
   "execution_count": null,
   "metadata": {},
   "outputs": [],
   "source": [
    "#calcular o desvio-padrão (raiz quadrado da variância)\n",
    "desviopadrao=variancia**0.5\n",
    "print(desviopadrao)\n"
   ]
  },
  {
   "cell_type": "markdown",
   "metadata": {},
   "source": [
    "**Resumo estatístico**"
   ]
  },
  {
   "cell_type": "code",
   "execution_count": null,
   "metadata": {},
   "outputs": [],
   "source": [
    "#Numpy -- cálculo da variância\n",
    "variancia=np.var(amostra)\n",
    "print(variancia)\n",
    "\n",
    "#Numpy -- cálculo desvio-padrão\n",
    "desviopadrao=np.std(amostra)\n",
    "print(desviopadrao)\n"
   ]
  },
  {
   "cell_type": "markdown",
   "metadata": {},
   "source": [
    "**Coeficiente de Variação e Análise de Dispersão.**"
   ]
  },
  {
   "cell_type": "code",
   "execution_count": null,
   "metadata": {},
   "outputs": [],
   "source": [
    "#Coeficeinte de variação (cv) é o desvio-padrão dividido pela média\n",
    "coef_variacao = desviopadrao/media\n",
    "print(coef_variacao)"
   ]
  },
  {
   "cell_type": "code",
   "execution_count": null,
   "metadata": {},
   "outputs": [],
   "source": [
    "#Calculo da distância da variância em relação à média\n",
    "distancia = variancia / (media**2)\n",
    "print(distancia*100, '%')"
   ]
  },
  {
   "cell_type": "code",
   "execution_count": null,
   "metadata": {},
   "outputs": [],
   "source": []
  },
  {
   "cell_type": "markdown",
   "metadata": {},
   "source": [
    "#Como interpretar?\n",
    "1. Se a distância for <= 10%, minha dispersão é baixa(tendem a ficar juntos)\n",
    "2. Se a distância for > 105 e <= 25%, minha dispersão é moderada\n",
    "3. Se a distância for > 25%, minha dispersão é alta(tendem a ficar muito distantes)\n"
   ]
  },
  {
   "cell_type": "markdown",
   "metadata": {},
   "source": [
    "#Atividade em aula: Atualize o resumo estatístico da sua amostra random com:\n",
    "ºVariância\n",
    "ºDesvio padrão\n",
    "ºCoeficiente de variação \n",
    "ºDispersão"
   ]
  }
 ],
 "metadata": {
  "kernelspec": {
   "display_name": "Python 3",
   "language": "python",
   "name": "python3"
  },
  "language_info": {
   "codemirror_mode": {
    "name": "ipython",
    "version": 3
   },
   "file_extension": ".py",
   "mimetype": "text/x-python",
   "name": "python",
   "nbconvert_exporter": "python",
   "pygments_lexer": "ipython3",
   "version": "3.11.4"
  },
  "orig_nbformat": 4
 },
 "nbformat": 4,
 "nbformat_minor": 2
}
