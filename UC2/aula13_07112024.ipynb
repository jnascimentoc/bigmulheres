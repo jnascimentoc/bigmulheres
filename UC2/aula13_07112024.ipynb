{
 "cells": [
  {
   "cell_type": "code",
   "execution_count": 5,
   "metadata": {},
   "outputs": [],
   "source": [
    "#Exemplo de multithreading em Python\n",
    "import threading\n",
    "import time"
   ]
  },
  {
   "cell_type": "code",
   "execution_count": 7,
   "metadata": {},
   "outputs": [
    {
     "name": "stdout",
     "output_type": "stream",
     "text": [
      "Tarefa 1 iniciando\n",
      "Tarefa 2 iniciando\n",
      "Tarefa 1 finalizando\n",
      "Tarefa 2 finalizando\n",
      "Processamento finalizado\n"
     ]
    }
   ],
   "source": [
    "def tarefa(nome):\n",
    "    print(f\"{nome} iniciando\")\n",
    "    time.sleep(2)\n",
    "    print(f\"{nome} finalizando\")\n",
    "\n",
    "    #Threads para duas tarefas:\n",
    "tarefa1 = threading.Thread(target=tarefa, args=(\"Tarefa 1\",))\n",
    "tarefa2 = threading.Thread(target=tarefa, args=(\"Tarefa 2\",))\n",
    "    \n",
    "    #Inicia as threads\n",
    "tarefa1.start()\n",
    "tarefa2.start()\n",
    "    \n",
    "    #Espera as threads terminarem\n",
    "tarefa1.join()\n",
    "tarefa2.join()\n",
    "\n",
    "print(\"Processamento finalizado\")\n",
    "\n"
   ]
  }
 ],
 "metadata": {
  "kernelspec": {
   "display_name": "Python 3",
   "language": "python",
   "name": "python3"
  },
  "language_info": {
   "codemirror_mode": {
    "name": "ipython",
    "version": 3
   },
   "file_extension": ".py",
   "mimetype": "text/x-python",
   "name": "python",
   "nbconvert_exporter": "python",
   "pygments_lexer": "ipython3",
   "version": "3.11.4"
  }
 },
 "nbformat": 4,
 "nbformat_minor": 2
}
