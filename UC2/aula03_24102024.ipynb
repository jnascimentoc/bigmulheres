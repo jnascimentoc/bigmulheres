{
 "cells": [
  {
   "cell_type": "code",
   "execution_count": 3,
   "metadata": {},
   "outputs": [
    {
     "name": "stdout",
     "output_type": "stream",
     "text": [
      "hi\n"
     ]
    }
   ],
   "source": [
    "import pandas as pd"
   ]
  },
  {
   "cell_type": "markdown",
   "metadata": {},
   "source": [
    "Diferenças entre Pandas e Numpy\n",
    "Pandas\n",
    "1. Melhor forma de trabalhar com dados tabulares (dataframes).\n",
    "2. As ferramentas poderosas são os comandos DATAFRAME e SERIES.\n",
    "3.Consome mais memória.\n",
    "4. Capaz de trabalhar com uma quantidade maior de arquivos. \n",
    "    Possui um desempenho melhor se o nunmero de linhas da matriz precisar ser do que 500k. \n",
    "5. Oferece um recurso para visualizar tabelas 2D chamadas DATAFRAMES.\n",
    "\n",
    "NumPy\n",
    "1. Melhor forma de tarbalhar com dados numéricos (série).\n",
    "2. A ferramenta poderosa é através dos comandos de ARRAYS.\n",
    "3. Mais eficiente em termos de memória por ser unidimensional.\n",
    "4. É mais eficiente  quando o número de linhas do array é de 50k ou menos\n",
    "5. \n"
   ]
  }
 ],
 "metadata": {
  "kernelspec": {
   "display_name": "Python 3",
   "language": "python",
   "name": "python3"
  },
  "language_info": {
   "codemirror_mode": {
    "name": "ipython",
    "version": 3
   },
   "file_extension": ".py",
   "mimetype": "text/x-python",
   "name": "python",
   "nbconvert_exporter": "python",
   "pygments_lexer": "ipython3",
   "version": "3.11.4"
  },
  "orig_nbformat": 4
 },
 "nbformat": 4,
 "nbformat_minor": 2
}
