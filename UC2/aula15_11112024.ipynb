{
 "cells": [
  {
   "cell_type": "markdown",
   "metadata": {},
   "source": [
    "**BIG DATA: Pré-processamento de Dados - 2**\n",
    "\n",
    "Arquivos Parquet: um dos mais (senão o mais leve) formato para se trabalhar com dados volumosos em larga escala,\n",
    "superando a economia de espaço em disco de formatos como Pickle e Feather.\n",
    "\n",
    "Documentação: https://parquet.apache.org/docs/overview/\n",
    "\n",
    "Pandas possui duas formas de trabalhar com esse formato de arquivo: pelas bibliotecas *pyarrow* ou *fastparquet*.\n",
    "\n",
    "Polars possui suporte nativo para o processamento, sem precisar de bibliotecas externas."
   ]
  },
  {
   "cell_type": "code",
   "execution_count": 11,
   "metadata": {},
   "outputs": [],
   "source": [
    "import pandas as pd\n",
    "import polars as pl\n",
    "import time\n",
    "import pyarrow\n",
    "import fastparquet"
   ]
  },
  {
   "cell_type": "code",
   "execution_count": 3,
   "metadata": {},
   "outputs": [
    {
     "data": {
      "text/html": [
       "<div><style>\n",
       ".dataframe > thead > tr,\n",
       ".dataframe > tbody > tr {\n",
       "  text-align: right;\n",
       "  white-space: pre-wrap;\n",
       "}\n",
       "</style>\n",
       "<small>shape: (5, 9)</small><table border=\"1\" class=\"dataframe\"><thead><tr><th>MÊS COMPETÊNCIA</th><th>MÊS REFERÊNCIA</th><th>UF</th><th>CÓDIGO MUNICÍPIO SIAFI</th><th>NOME MUNICÍPIO</th><th>CPF FAVORECIDO</th><th>NIS FAVORECIDO</th><th>NOME FAVORECIDO</th><th>VALOR PARCELA</th></tr><tr><td>i64</td><td>i64</td><td>str</td><td>i64</td><td>str</td><td>str</td><td>i64</td><td>str</td><td>str</td></tr></thead><tbody><tr><td>202401</td><td>202303</td><td>&quot;AC&quot;</td><td>139</td><td>&quot;RIO BRANCO&quot;</td><td>&quot;***.511.972-**&quot;</td><td>16291115205</td><td>&quot;JANAINA FERREIRA DA SILVA&quot;</td><td>&quot;800,00&quot;</td></tr><tr><td>202401</td><td>202303</td><td>&quot;BA&quot;</td><td>3329</td><td>&quot;ANGUERA&quot;</td><td>&quot;***.909.745-**&quot;</td><td>20474429886</td><td>&quot;TACIANE MARQUES DA SILVA&quot;</td><td>&quot;750,00&quot;</td></tr><tr><td>202401</td><td>202303</td><td>&quot;BA&quot;</td><td>3731</td><td>&quot;MONTE SANTO&quot;</td><td>&quot;***.872.338-**&quot;</td><td>20195376298</td><td>&quot;MAILSON DOS SANTOS SILVA&quot;</td><td>&quot;650,00&quot;</td></tr><tr><td>202401</td><td>202303</td><td>&quot;BA&quot;</td><td>3761</td><td>&quot;NOVA VICOSA&quot;</td><td>&quot;***.665.905-**&quot;</td><td>12723589082</td><td>&quot;IRENI RICARDO GERALDO&quot;</td><td>&quot;650,00&quot;</td></tr><tr><td>202401</td><td>202303</td><td>&quot;BA&quot;</td><td>3849</td><td>&quot;SALVADOR&quot;</td><td>&quot;***.932.435-**&quot;</td><td>20024584007</td><td>&quot;ELIENE GOMES DOS SANTOS&quot;</td><td>&quot;850,00&quot;</td></tr></tbody></table></div>"
      ],
      "text/plain": [
       "shape: (5, 9)\n",
       "┌────────────┬────────────┬─────┬────────────┬───┬────────────┬────────────┬───────────┬───────────┐\n",
       "│ MÊS COMPET ┆ MÊS        ┆ UF  ┆ CÓDIGO     ┆ … ┆ CPF        ┆ NIS        ┆ NOME FAVO ┆ VALOR     │\n",
       "│ ÊNCIA      ┆ REFERÊNCIA ┆ --- ┆ MUNICÍPIO  ┆   ┆ FAVORECIDO ┆ FAVORECIDO ┆ RECIDO    ┆ PARCELA   │\n",
       "│ ---        ┆ ---        ┆ str ┆ SIAFI      ┆   ┆ ---        ┆ ---        ┆ ---       ┆ ---       │\n",
       "│ i64        ┆ i64        ┆     ┆ ---        ┆   ┆ str        ┆ i64        ┆ str       ┆ str       │\n",
       "│            ┆            ┆     ┆ i64        ┆   ┆            ┆            ┆           ┆           │\n",
       "╞════════════╪════════════╪═════╪════════════╪═══╪════════════╪════════════╪═══════════╪═══════════╡\n",
       "│ 202401     ┆ 202303     ┆ AC  ┆ 139        ┆ … ┆ ***.511.97 ┆ 1629111520 ┆ JANAINA   ┆ 800,00    │\n",
       "│            ┆            ┆     ┆            ┆   ┆ 2-**       ┆ 5          ┆ FERREIRA  ┆           │\n",
       "│            ┆            ┆     ┆            ┆   ┆            ┆            ┆ DA SILVA  ┆           │\n",
       "│ 202401     ┆ 202303     ┆ BA  ┆ 3329       ┆ … ┆ ***.909.74 ┆ 2047442988 ┆ TACIANE   ┆ 750,00    │\n",
       "│            ┆            ┆     ┆            ┆   ┆ 5-**       ┆ 6          ┆ MARQUES   ┆           │\n",
       "│            ┆            ┆     ┆            ┆   ┆            ┆            ┆ DA SILVA  ┆           │\n",
       "│ 202401     ┆ 202303     ┆ BA  ┆ 3731       ┆ … ┆ ***.872.33 ┆ 2019537629 ┆ MAILSON   ┆ 650,00    │\n",
       "│            ┆            ┆     ┆            ┆   ┆ 8-**       ┆ 8          ┆ DOS       ┆           │\n",
       "│            ┆            ┆     ┆            ┆   ┆            ┆            ┆ SANTOS    ┆           │\n",
       "│            ┆            ┆     ┆            ┆   ┆            ┆            ┆ SILVA     ┆           │\n",
       "│ 202401     ┆ 202303     ┆ BA  ┆ 3761       ┆ … ┆ ***.665.90 ┆ 1272358908 ┆ IRENI     ┆ 650,00    │\n",
       "│            ┆            ┆     ┆            ┆   ┆ 5-**       ┆ 2          ┆ RICARDO   ┆           │\n",
       "│            ┆            ┆     ┆            ┆   ┆            ┆            ┆ GERALDO   ┆           │\n",
       "│ 202401     ┆ 202303     ┆ BA  ┆ 3849       ┆ … ┆ ***.932.43 ┆ 2002458400 ┆ ELIENE    ┆ 850,00    │\n",
       "│            ┆            ┆     ┆            ┆   ┆ 5-**       ┆ 7          ┆ GOMES DOS ┆           │\n",
       "│            ┆            ┆     ┆            ┆   ┆            ┆            ┆ SANTOS    ┆           │\n",
       "└────────────┴────────────┴─────┴────────────┴───┴────────────┴────────────┴───────────┴───────────┘"
      ]
     },
     "metadata": {},
     "output_type": "display_data"
    },
    {
     "data": {
      "text/plain": [
       "'Tempo de execução com Polars:'"
      ]
     },
     "metadata": {},
     "output_type": "display_data"
    },
    {
     "data": {
      "text/plain": [
       "0.04538536071777344"
      ]
     },
     "metadata": {},
     "output_type": "display_data"
    },
    {
     "data": {
      "text/plain": [
       "'segundos'"
      ]
     },
     "metadata": {},
     "output_type": "display_data"
    }
   ],
   "source": [
    "##Primeiro Bimestre\n",
    "# Lendo os arquivos CSV com Polars\n",
    "# Usando o parâmetro 'sep' novamente (com o delimitador correto)\n",
    "arquivo1 = pl.read_csv(\"C:\\\\Users\\\\unidade.copacabana\\\\Documents\\\\BigDataSenac\\\\arquivos\\\\202401_NovoBolsaFamilia.csv\", separator=\";\", encoding=\"latin-1\")\n",
    "arquivo2 = pl.read_csv(\"C:\\\\Users\\\\unidade.copacabana\\\\Documents\\\\BigDataSenac\\\\arquivos\\\\202402_NovoBolsaFamilia.csv\", separator=\";\", encoding=\"latin-1\")\n",
    "\n",
    "inicio_tempo = time.time()  # Marcação do tempo de execução\n",
    "\n",
    "# Concatenando os DataFrames com Polars\n",
    "primeirobimestre = pl.concat([arquivo1, arquivo2])\n",
    "\n",
    "# Exibindo as primeiras linhas do DataFrame concatenado\n",
    "display(primeirobimestre.head())\n",
    "\n",
    "display(\"Tempo de execução com Polars:\", time.time() - inicio_tempo, \"segundos\")\n",
    "\n"
   ]
  },
  {
   "cell_type": "code",
   "execution_count": 4,
   "metadata": {},
   "outputs": [
    {
     "data": {
      "text/html": [
       "<div><style>\n",
       ".dataframe > thead > tr,\n",
       ".dataframe > tbody > tr {\n",
       "  text-align: right;\n",
       "  white-space: pre-wrap;\n",
       "}\n",
       "</style>\n",
       "<small>shape: (5, 9)</small><table border=\"1\" class=\"dataframe\"><thead><tr><th>MÊS COMPETÊNCIA</th><th>MÊS REFERÊNCIA</th><th>UF</th><th>CÓDIGO MUNICÍPIO SIAFI</th><th>NOME MUNICÍPIO</th><th>CPF FAVORECIDO</th><th>NIS FAVORECIDO</th><th>NOME FAVORECIDO</th><th>VALOR PARCELA</th></tr><tr><td>i64</td><td>i64</td><td>str</td><td>i64</td><td>str</td><td>str</td><td>i64</td><td>str</td><td>str</td></tr></thead><tbody><tr><td>202403</td><td>202303</td><td>&quot;PA&quot;</td><td>581</td><td>&quot;CURIONOPOLIS&quot;</td><td>&quot;***.427.552-**&quot;</td><td>16158471934</td><td>&quot;ANDRESSA SOUSA COSTA&quot;</td><td>&quot;325,00&quot;</td></tr><tr><td>202403</td><td>202303</td><td>&quot;PA&quot;</td><td>581</td><td>&quot;CURIONOPOLIS&quot;</td><td>&quot;***.268.842-**&quot;</td><td>21204955249</td><td>&quot;DIVINA NERES DA SILVA&quot;</td><td>&quot;350,00&quot;</td></tr><tr><td>202403</td><td>202304</td><td>&quot;AM&quot;</td><td>221</td><td>&quot;CARAUARI&quot;</td><td>&quot;***.462.652-**&quot;</td><td>20149917044</td><td>&quot;ELIAS GREGORIO SIMOES&quot;</td><td>&quot;600,00&quot;</td></tr><tr><td>202403</td><td>202304</td><td>&quot;BA&quot;</td><td>3449</td><td>&quot;CATU&quot;</td><td>&quot;***.335.635-**&quot;</td><td>16104664114</td><td>&quot;ADRIANA MIRANDA DE JESUS&quot;</td><td>&quot;800,00&quot;</td></tr><tr><td>202403</td><td>202304</td><td>&quot;BA&quot;</td><td>3449</td><td>&quot;CATU&quot;</td><td>&quot;***.288.245-**&quot;</td><td>12611273067</td><td>&quot;EDMILSON DE JESUS MENDES&quot;</td><td>&quot;600,00&quot;</td></tr></tbody></table></div>"
      ],
      "text/plain": [
       "shape: (5, 9)\n",
       "┌────────────┬────────────┬─────┬────────────┬───┬────────────┬────────────┬───────────┬───────────┐\n",
       "│ MÊS COMPET ┆ MÊS        ┆ UF  ┆ CÓDIGO     ┆ … ┆ CPF        ┆ NIS        ┆ NOME FAVO ┆ VALOR     │\n",
       "│ ÊNCIA      ┆ REFERÊNCIA ┆ --- ┆ MUNICÍPIO  ┆   ┆ FAVORECIDO ┆ FAVORECIDO ┆ RECIDO    ┆ PARCELA   │\n",
       "│ ---        ┆ ---        ┆ str ┆ SIAFI      ┆   ┆ ---        ┆ ---        ┆ ---       ┆ ---       │\n",
       "│ i64        ┆ i64        ┆     ┆ ---        ┆   ┆ str        ┆ i64        ┆ str       ┆ str       │\n",
       "│            ┆            ┆     ┆ i64        ┆   ┆            ┆            ┆           ┆           │\n",
       "╞════════════╪════════════╪═════╪════════════╪═══╪════════════╪════════════╪═══════════╪═══════════╡\n",
       "│ 202403     ┆ 202303     ┆ PA  ┆ 581        ┆ … ┆ ***.427.55 ┆ 1615847193 ┆ ANDRESSA  ┆ 325,00    │\n",
       "│            ┆            ┆     ┆            ┆   ┆ 2-**       ┆ 4          ┆ SOUSA     ┆           │\n",
       "│            ┆            ┆     ┆            ┆   ┆            ┆            ┆ COSTA     ┆           │\n",
       "│ 202403     ┆ 202303     ┆ PA  ┆ 581        ┆ … ┆ ***.268.84 ┆ 2120495524 ┆ DIVINA    ┆ 350,00    │\n",
       "│            ┆            ┆     ┆            ┆   ┆ 2-**       ┆ 9          ┆ NERES DA  ┆           │\n",
       "│            ┆            ┆     ┆            ┆   ┆            ┆            ┆ SILVA     ┆           │\n",
       "│ 202403     ┆ 202304     ┆ AM  ┆ 221        ┆ … ┆ ***.462.65 ┆ 2014991704 ┆ ELIAS     ┆ 600,00    │\n",
       "│            ┆            ┆     ┆            ┆   ┆ 2-**       ┆ 4          ┆ GREGORIO  ┆           │\n",
       "│            ┆            ┆     ┆            ┆   ┆            ┆            ┆ SIMOES    ┆           │\n",
       "│ 202403     ┆ 202304     ┆ BA  ┆ 3449       ┆ … ┆ ***.335.63 ┆ 1610466411 ┆ ADRIANA   ┆ 800,00    │\n",
       "│            ┆            ┆     ┆            ┆   ┆ 5-**       ┆ 4          ┆ MIRANDA   ┆           │\n",
       "│            ┆            ┆     ┆            ┆   ┆            ┆            ┆ DE JESUS  ┆           │\n",
       "│ 202403     ┆ 202304     ┆ BA  ┆ 3449       ┆ … ┆ ***.288.24 ┆ 1261127306 ┆ EDMILSON  ┆ 600,00    │\n",
       "│            ┆            ┆     ┆            ┆   ┆ 5-**       ┆ 7          ┆ DE JESUS  ┆           │\n",
       "│            ┆            ┆     ┆            ┆   ┆            ┆            ┆ MENDES    ┆           │\n",
       "└────────────┴────────────┴─────┴────────────┴───┴────────────┴────────────┴───────────┴───────────┘"
      ]
     },
     "metadata": {},
     "output_type": "display_data"
    },
    {
     "data": {
      "text/plain": [
       "'Tempo de execução com Polars:'"
      ]
     },
     "metadata": {},
     "output_type": "display_data"
    },
    {
     "data": {
      "text/plain": [
       "0.0515742301940918"
      ]
     },
     "metadata": {},
     "output_type": "display_data"
    },
    {
     "data": {
      "text/plain": [
       "'segundos'"
      ]
     },
     "metadata": {},
     "output_type": "display_data"
    }
   ],
   "source": [
    "##Segundo Bimestre\n",
    "# Lendo os arquivos CSV com Polars\n",
    "# Usando o parâmetro 'sep' novamente (com o delimitador correto)\n",
    "arquivo3 = pl.read_csv(\"C:\\\\Users\\\\unidade.copacabana\\\\Documents\\\\BigDataSenac\\\\arquivos\\\\202403_NovoBolsaFamilia.csv\", separator=\";\", encoding=\"latin-1\")\n",
    "arquivo4 = pl.read_csv(\"C:\\\\Users\\\\unidade.copacabana\\\\Documents\\\\BigDataSenac\\\\arquivos\\\\202404_NovoBolsaFamilia.csv\", separator=\";\", encoding=\"latin-1\")\n",
    "\n",
    "inicio_tempo = time.time()  # Marcação do tempo de execução\n",
    "\n",
    "# Concatenando os DataFrames com Polars\n",
    "segundobimestre = pl.concat([arquivo3, arquivo4])\n",
    "\n",
    "# Exibindo as primeiras linhas do DataFrame concatenado\n",
    "display(segundobimestre.head())\n",
    "\n",
    "display(\"Tempo de execução com Polars:\", time.time() - inicio_tempo, \"segundos\")"
   ]
  },
  {
   "cell_type": "code",
   "execution_count": 5,
   "metadata": {},
   "outputs": [
    {
     "data": {
      "text/html": [
       "<div><style>\n",
       ".dataframe > thead > tr,\n",
       ".dataframe > tbody > tr {\n",
       "  text-align: right;\n",
       "  white-space: pre-wrap;\n",
       "}\n",
       "</style>\n",
       "<small>shape: (5, 9)</small><table border=\"1\" class=\"dataframe\"><thead><tr><th>MÊS COMPETÊNCIA</th><th>MÊS REFERÊNCIA</th><th>UF</th><th>CÓDIGO MUNICÍPIO SIAFI</th><th>NOME MUNICÍPIO</th><th>CPF FAVORECIDO</th><th>NIS FAVORECIDO</th><th>NOME FAVORECIDO</th><th>VALOR PARCELA</th></tr><tr><td>i64</td><td>i64</td><td>str</td><td>i64</td><td>str</td><td>str</td><td>i64</td><td>str</td><td>str</td></tr></thead><tbody><tr><td>202405</td><td>202303</td><td>&quot;RJ&quot;</td><td>6001</td><td>&quot;RIO DE JANEIRO&quot;</td><td>&quot;&quot;</td><td>12789600971</td><td>&quot;DYANNA MARIA DA SILVA RABELO&quot;</td><td>&quot;750,00&quot;</td></tr><tr><td>202405</td><td>202304</td><td>&quot;RJ&quot;</td><td>6001</td><td>&quot;RIO DE JANEIRO&quot;</td><td>&quot;***.520.517-**&quot;</td><td>16662994112</td><td>&quot;RIVICA SOARES BARBOSA&quot;</td><td>&quot;750,00&quot;</td></tr><tr><td>202405</td><td>202305</td><td>&quot;BA&quot;</td><td>3597</td><td>&quot;ITABUNA&quot;</td><td>&quot;***.554.805-**&quot;</td><td>20740034450</td><td>&quot;ANDREA PEREIRA DOS SANTOS&quot;</td><td>&quot;350,00&quot;</td></tr><tr><td>202405</td><td>202305</td><td>&quot;BA&quot;</td><td>3597</td><td>&quot;ITABUNA&quot;</td><td>&quot;***.332.675-**&quot;</td><td>16014198572</td><td>&quot;DINALVA DA CRUZ&quot;</td><td>&quot;300,00&quot;</td></tr><tr><td>202405</td><td>202305</td><td>&quot;BA&quot;</td><td>3597</td><td>&quot;ITABUNA&quot;</td><td>&quot;&quot;</td><td>20724192861</td><td>&quot;REGIANE JESUS DO ESPIRITO SANT…</td><td>&quot;325,00&quot;</td></tr></tbody></table></div>"
      ],
      "text/plain": [
       "shape: (5, 9)\n",
       "┌────────────┬────────────┬─────┬────────────┬───┬────────────┬────────────┬───────────┬───────────┐\n",
       "│ MÊS COMPET ┆ MÊS        ┆ UF  ┆ CÓDIGO     ┆ … ┆ CPF        ┆ NIS        ┆ NOME FAVO ┆ VALOR     │\n",
       "│ ÊNCIA      ┆ REFERÊNCIA ┆ --- ┆ MUNICÍPIO  ┆   ┆ FAVORECIDO ┆ FAVORECIDO ┆ RECIDO    ┆ PARCELA   │\n",
       "│ ---        ┆ ---        ┆ str ┆ SIAFI      ┆   ┆ ---        ┆ ---        ┆ ---       ┆ ---       │\n",
       "│ i64        ┆ i64        ┆     ┆ ---        ┆   ┆ str        ┆ i64        ┆ str       ┆ str       │\n",
       "│            ┆            ┆     ┆ i64        ┆   ┆            ┆            ┆           ┆           │\n",
       "╞════════════╪════════════╪═════╪════════════╪═══╪════════════╪════════════╪═══════════╪═══════════╡\n",
       "│ 202405     ┆ 202303     ┆ RJ  ┆ 6001       ┆ … ┆            ┆ 1278960097 ┆ DYANNA    ┆ 750,00    │\n",
       "│            ┆            ┆     ┆            ┆   ┆            ┆ 1          ┆ MARIA DA  ┆           │\n",
       "│            ┆            ┆     ┆            ┆   ┆            ┆            ┆ SILVA     ┆           │\n",
       "│            ┆            ┆     ┆            ┆   ┆            ┆            ┆ RABELO    ┆           │\n",
       "│ 202405     ┆ 202304     ┆ RJ  ┆ 6001       ┆ … ┆ ***.520.51 ┆ 1666299411 ┆ RIVICA    ┆ 750,00    │\n",
       "│            ┆            ┆     ┆            ┆   ┆ 7-**       ┆ 2          ┆ SOARES    ┆           │\n",
       "│            ┆            ┆     ┆            ┆   ┆            ┆            ┆ BARBOSA   ┆           │\n",
       "│ 202405     ┆ 202305     ┆ BA  ┆ 3597       ┆ … ┆ ***.554.80 ┆ 2074003445 ┆ ANDREA    ┆ 350,00    │\n",
       "│            ┆            ┆     ┆            ┆   ┆ 5-**       ┆ 0          ┆ PEREIRA   ┆           │\n",
       "│            ┆            ┆     ┆            ┆   ┆            ┆            ┆ DOS       ┆           │\n",
       "│            ┆            ┆     ┆            ┆   ┆            ┆            ┆ SANTOS    ┆           │\n",
       "│ 202405     ┆ 202305     ┆ BA  ┆ 3597       ┆ … ┆ ***.332.67 ┆ 1601419857 ┆ DINALVA   ┆ 300,00    │\n",
       "│            ┆            ┆     ┆            ┆   ┆ 5-**       ┆ 2          ┆ DA CRUZ   ┆           │\n",
       "│ 202405     ┆ 202305     ┆ BA  ┆ 3597       ┆ … ┆            ┆ 2072419286 ┆ REGIANE   ┆ 325,00    │\n",
       "│            ┆            ┆     ┆            ┆   ┆            ┆ 1          ┆ JESUS DO  ┆           │\n",
       "│            ┆            ┆     ┆            ┆   ┆            ┆            ┆ ESPIRITO  ┆           │\n",
       "│            ┆            ┆     ┆            ┆   ┆            ┆            ┆ SANT…     ┆           │\n",
       "└────────────┴────────────┴─────┴────────────┴───┴────────────┴────────────┴───────────┴───────────┘"
      ]
     },
     "metadata": {},
     "output_type": "display_data"
    },
    {
     "data": {
      "text/plain": [
       "'Tempo de execução com Polars:'"
      ]
     },
     "metadata": {},
     "output_type": "display_data"
    },
    {
     "data": {
      "text/plain": [
       "0.032369375228881836"
      ]
     },
     "metadata": {},
     "output_type": "display_data"
    },
    {
     "data": {
      "text/plain": [
       "'segundos'"
      ]
     },
     "metadata": {},
     "output_type": "display_data"
    }
   ],
   "source": [
    "##Terceiro bimestre\n",
    "arquivo5 = pl.read_csv(\"C:\\\\Users\\\\unidade.copacabana\\\\Documents\\\\BigDataSenac\\\\arquivos\\\\202405_NovoBolsaFamilia.csv\", separator=\";\", encoding=\"latin-1\")\n",
    "arquivo6 = pl.read_csv(\"C:\\\\Users\\\\unidade.copacabana\\\\Documents\\\\BigDataSenac\\\\arquivos\\\\202406_NovoBolsaFamilia.csv\", separator=\";\", encoding=\"latin-1\")\n",
    "\n",
    "inicio_tempo = time.time()  # Marcação do tempo de execução\n",
    "\n",
    "# Concatenando os DataFrames com Polars\n",
    "terceirobimestre = pl.concat([arquivo5, arquivo6])\n",
    "\n",
    "# Exibindo as primeiras linhas do DataFrame concatenado\n",
    "display(terceirobimestre.head())\n",
    "\n",
    "display(\"Tempo de execução com Polars:\", time.time() - inicio_tempo, \"segundos\")"
   ]
  },
  {
   "cell_type": "code",
   "execution_count": 6,
   "metadata": {},
   "outputs": [],
   "source": [
    "primeirobimestre.write_parquet('primeirobimestre.parquet')\n",
    "segundobimestre.write_parquet('segundobimestre.parquet')\n",
    "terceirobimestre.write_parquet('terceirobimestre.parquet')\n"
   ]
  },
  {
   "cell_type": "code",
   "execution_count": 7,
   "metadata": {},
   "outputs": [],
   "source": [
    "#ArquivoFinal\n",
    "\n",
    "parquet1= pl.read_parquet('primeirobimestre.parquet')"
   ]
  },
  {
   "cell_type": "code",
   "execution_count": 8,
   "metadata": {},
   "outputs": [],
   "source": [
    "parquet2= pl.read_parquet('segundobimestre.parquet')"
   ]
  },
  {
   "cell_type": "code",
   "execution_count": 9,
   "metadata": {},
   "outputs": [],
   "source": [
    "parquet3= pl.read_parquet('terceirobimestre.parquet')"
   ]
  },
  {
   "cell_type": "code",
   "execution_count": 13,
   "metadata": {},
   "outputs": [],
   "source": [
    "bolsa_familia=pl.concat([parquet1,parquet2,parquet3])\n",
    "bolsa_familia.write_parquet('bolsa_familia_final.parquet')"
   ]
  },
  {
   "cell_type": "markdown",
   "metadata": {},
   "source": []
  },
  {
   "cell_type": "markdown",
   "metadata": {},
   "source": [
    "**LAZY EVALUATION**\n",
    "Otimiza o processamento dos dados volumosos, adiando operações até momentos que realmente são necessários.\n"
   ]
  },
  {
   "cell_type": "code",
   "execution_count": 23,
   "metadata": {},
   "outputs": [],
   "source": [
    "\n",
    "import polars as pl\n",
    "\n",
    "#Carregando o arquivo .parquet através de Lazy Evaluation:\n",
    "df_lazy = pl.scan_parquet('bolsa_familia_final.parquet')\n",
    "\n",
    "#Definindo as operações que serão executadas apenas em momenos oportunos:\n",
    "resultado = (df_lazy.filter(pl.col(\"NOME MUNICÍPIO\")==\"RIO DE JANEIRO\").collect())"
   ]
  },
  {
   "cell_type": "code",
   "execution_count": 24,
   "metadata": {},
   "outputs": [
    {
     "data": {
      "text/html": [
       "<div><style>\n",
       ".dataframe > thead > tr,\n",
       ".dataframe > tbody > tr {\n",
       "  text-align: right;\n",
       "  white-space: pre-wrap;\n",
       "}\n",
       "</style>\n",
       "<small>shape: (3_282_847, 9)</small><table border=\"1\" class=\"dataframe\"><thead><tr><th>MÊS COMPETÊNCIA</th><th>MÊS REFERÊNCIA</th><th>UF</th><th>CÓDIGO MUNICÍPIO SIAFI</th><th>NOME MUNICÍPIO</th><th>CPF FAVORECIDO</th><th>NIS FAVORECIDO</th><th>NOME FAVORECIDO</th><th>VALOR PARCELA</th></tr><tr><td>i64</td><td>i64</td><td>str</td><td>i64</td><td>str</td><td>str</td><td>i64</td><td>str</td><td>str</td></tr></thead><tbody><tr><td>202401</td><td>202303</td><td>&quot;RJ&quot;</td><td>6001</td><td>&quot;RIO DE JANEIRO&quot;</td><td>&quot;***.020.557-**&quot;</td><td>16662936511</td><td>&quot;NATHALIA IATH DE ARAUJO SILVA&quot;</td><td>&quot;750,00&quot;</td></tr><tr><td>202401</td><td>202303</td><td>&quot;RJ&quot;</td><td>6001</td><td>&quot;RIO DE JANEIRO&quot;</td><td>&quot;***.822.577-**&quot;</td><td>16620773428</td><td>&quot;VANESSA RODRIGUES DO AMPARO&quot;</td><td>&quot;800,00&quot;</td></tr><tr><td>202401</td><td>202304</td><td>&quot;RJ&quot;</td><td>6001</td><td>&quot;RIO DE JANEIRO&quot;</td><td>&quot;***.020.557-**&quot;</td><td>16662936511</td><td>&quot;NATHALIA IATH DE ARAUJO SILVA&quot;</td><td>&quot;750,00&quot;</td></tr><tr><td>202401</td><td>202304</td><td>&quot;RJ&quot;</td><td>6001</td><td>&quot;RIO DE JANEIRO&quot;</td><td>&quot;***.822.577-**&quot;</td><td>16620773428</td><td>&quot;VANESSA RODRIGUES DO AMPARO&quot;</td><td>&quot;800,00&quot;</td></tr><tr><td>202401</td><td>202305</td><td>&quot;RJ&quot;</td><td>6001</td><td>&quot;RIO DE JANEIRO&quot;</td><td>&quot;***.020.557-**&quot;</td><td>16662936511</td><td>&quot;NATHALIA IATH DE ARAUJO SILVA&quot;</td><td>&quot;750,00&quot;</td></tr><tr><td>&hellip;</td><td>&hellip;</td><td>&hellip;</td><td>&hellip;</td><td>&hellip;</td><td>&hellip;</td><td>&hellip;</td><td>&hellip;</td><td>&hellip;</td></tr><tr><td>202406</td><td>202406</td><td>&quot;RJ&quot;</td><td>6001</td><td>&quot;RIO DE JANEIRO&quot;</td><td>&quot;&quot;</td><td>21425190369</td><td>&quot;ZULMIRA PIMENTEL BRASIL&quot;</td><td>&quot;650,00&quot;</td></tr><tr><td>202406</td><td>202406</td><td>&quot;RJ&quot;</td><td>6001</td><td>&quot;RIO DE JANEIRO&quot;</td><td>&quot;***.043.637-**&quot;</td><td>23606741320</td><td>&quot;ZULMIRA ROSA NOGUEIRA LOPES&quot;</td><td>&quot;440,00&quot;</td></tr><tr><td>202406</td><td>202406</td><td>&quot;RJ&quot;</td><td>6001</td><td>&quot;RIO DE JANEIRO&quot;</td><td>&quot;***.963.237-**&quot;</td><td>12288562597</td><td>&quot;ZUMILDO BATISTA DOS SANTOS&quot;</td><td>&quot;650,00&quot;</td></tr><tr><td>202406</td><td>202406</td><td>&quot;RJ&quot;</td><td>6001</td><td>&quot;RIO DE JANEIRO&quot;</td><td>&quot;&quot;</td><td>13699562815</td><td>&quot;ZUREMA PATRICIA DE SOUSA GASPA…</td><td>&quot;650,00&quot;</td></tr><tr><td>202406</td><td>202406</td><td>&quot;RJ&quot;</td><td>6001</td><td>&quot;RIO DE JANEIRO&quot;</td><td>&quot;***.441.847-**&quot;</td><td>20147890920</td><td>&quot;ZUZILENE SANTOS SILVA&quot;</td><td>&quot;700,00&quot;</td></tr></tbody></table></div>"
      ],
      "text/plain": [
       "shape: (3_282_847, 9)\n",
       "┌────────────┬────────────┬─────┬────────────┬───┬────────────┬────────────┬───────────┬───────────┐\n",
       "│ MÊS COMPET ┆ MÊS        ┆ UF  ┆ CÓDIGO     ┆ … ┆ CPF        ┆ NIS        ┆ NOME FAVO ┆ VALOR     │\n",
       "│ ÊNCIA      ┆ REFERÊNCIA ┆ --- ┆ MUNICÍPIO  ┆   ┆ FAVORECIDO ┆ FAVORECIDO ┆ RECIDO    ┆ PARCELA   │\n",
       "│ ---        ┆ ---        ┆ str ┆ SIAFI      ┆   ┆ ---        ┆ ---        ┆ ---       ┆ ---       │\n",
       "│ i64        ┆ i64        ┆     ┆ ---        ┆   ┆ str        ┆ i64        ┆ str       ┆ str       │\n",
       "│            ┆            ┆     ┆ i64        ┆   ┆            ┆            ┆           ┆           │\n",
       "╞════════════╪════════════╪═════╪════════════╪═══╪════════════╪════════════╪═══════════╪═══════════╡\n",
       "│ 202401     ┆ 202303     ┆ RJ  ┆ 6001       ┆ … ┆ ***.020.55 ┆ 1666293651 ┆ NATHALIA  ┆ 750,00    │\n",
       "│            ┆            ┆     ┆            ┆   ┆ 7-**       ┆ 1          ┆ IATH DE   ┆           │\n",
       "│            ┆            ┆     ┆            ┆   ┆            ┆            ┆ ARAUJO    ┆           │\n",
       "│            ┆            ┆     ┆            ┆   ┆            ┆            ┆ SILVA     ┆           │\n",
       "│ 202401     ┆ 202303     ┆ RJ  ┆ 6001       ┆ … ┆ ***.822.57 ┆ 1662077342 ┆ VANESSA   ┆ 800,00    │\n",
       "│            ┆            ┆     ┆            ┆   ┆ 7-**       ┆ 8          ┆ RODRIGUES ┆           │\n",
       "│            ┆            ┆     ┆            ┆   ┆            ┆            ┆ DO AMPARO ┆           │\n",
       "│ 202401     ┆ 202304     ┆ RJ  ┆ 6001       ┆ … ┆ ***.020.55 ┆ 1666293651 ┆ NATHALIA  ┆ 750,00    │\n",
       "│            ┆            ┆     ┆            ┆   ┆ 7-**       ┆ 1          ┆ IATH DE   ┆           │\n",
       "│            ┆            ┆     ┆            ┆   ┆            ┆            ┆ ARAUJO    ┆           │\n",
       "│            ┆            ┆     ┆            ┆   ┆            ┆            ┆ SILVA     ┆           │\n",
       "│ 202401     ┆ 202304     ┆ RJ  ┆ 6001       ┆ … ┆ ***.822.57 ┆ 1662077342 ┆ VANESSA   ┆ 800,00    │\n",
       "│            ┆            ┆     ┆            ┆   ┆ 7-**       ┆ 8          ┆ RODRIGUES ┆           │\n",
       "│            ┆            ┆     ┆            ┆   ┆            ┆            ┆ DO AMPARO ┆           │\n",
       "│ 202401     ┆ 202305     ┆ RJ  ┆ 6001       ┆ … ┆ ***.020.55 ┆ 1666293651 ┆ NATHALIA  ┆ 750,00    │\n",
       "│            ┆            ┆     ┆            ┆   ┆ 7-**       ┆ 1          ┆ IATH DE   ┆           │\n",
       "│            ┆            ┆     ┆            ┆   ┆            ┆            ┆ ARAUJO    ┆           │\n",
       "│            ┆            ┆     ┆            ┆   ┆            ┆            ┆ SILVA     ┆           │\n",
       "│ …          ┆ …          ┆ …   ┆ …          ┆ … ┆ …          ┆ …          ┆ …         ┆ …         │\n",
       "│ 202406     ┆ 202406     ┆ RJ  ┆ 6001       ┆ … ┆            ┆ 2142519036 ┆ ZULMIRA   ┆ 650,00    │\n",
       "│            ┆            ┆     ┆            ┆   ┆            ┆ 9          ┆ PIMENTEL  ┆           │\n",
       "│            ┆            ┆     ┆            ┆   ┆            ┆            ┆ BRASIL    ┆           │\n",
       "│ 202406     ┆ 202406     ┆ RJ  ┆ 6001       ┆ … ┆ ***.043.63 ┆ 2360674132 ┆ ZULMIRA   ┆ 440,00    │\n",
       "│            ┆            ┆     ┆            ┆   ┆ 7-**       ┆ 0          ┆ ROSA      ┆           │\n",
       "│            ┆            ┆     ┆            ┆   ┆            ┆            ┆ NOGUEIRA  ┆           │\n",
       "│            ┆            ┆     ┆            ┆   ┆            ┆            ┆ LOPES     ┆           │\n",
       "│ 202406     ┆ 202406     ┆ RJ  ┆ 6001       ┆ … ┆ ***.963.23 ┆ 1228856259 ┆ ZUMILDO   ┆ 650,00    │\n",
       "│            ┆            ┆     ┆            ┆   ┆ 7-**       ┆ 7          ┆ BATISTA   ┆           │\n",
       "│            ┆            ┆     ┆            ┆   ┆            ┆            ┆ DOS       ┆           │\n",
       "│            ┆            ┆     ┆            ┆   ┆            ┆            ┆ SANTOS    ┆           │\n",
       "│ 202406     ┆ 202406     ┆ RJ  ┆ 6001       ┆ … ┆            ┆ 1369956281 ┆ ZUREMA    ┆ 650,00    │\n",
       "│            ┆            ┆     ┆            ┆   ┆            ┆ 5          ┆ PATRICIA  ┆           │\n",
       "│            ┆            ┆     ┆            ┆   ┆            ┆            ┆ DE SOUSA  ┆           │\n",
       "│            ┆            ┆     ┆            ┆   ┆            ┆            ┆ GASPA…    ┆           │\n",
       "│ 202406     ┆ 202406     ┆ RJ  ┆ 6001       ┆ … ┆ ***.441.84 ┆ 2014789092 ┆ ZUZILENE  ┆ 700,00    │\n",
       "│            ┆            ┆     ┆            ┆   ┆ 7-**       ┆ 0          ┆ SANTOS    ┆           │\n",
       "│            ┆            ┆     ┆            ┆   ┆            ┆            ┆ SILVA     ┆           │\n",
       "└────────────┴────────────┴─────┴────────────┴───┴────────────┴────────────┴───────────┴───────────┘"
      ]
     },
     "metadata": {},
     "output_type": "display_data"
    }
   ],
   "source": [
    "display(resultado)"
   ]
  }
 ],
 "metadata": {
  "kernelspec": {
   "display_name": "Python 3",
   "language": "python",
   "name": "python3"
  },
  "language_info": {
   "codemirror_mode": {
    "name": "ipython",
    "version": 3
   },
   "file_extension": ".py",
   "mimetype": "text/x-python",
   "name": "python",
   "nbconvert_exporter": "python",
   "pygments_lexer": "ipython3",
   "version": "3.11.4"
  }
 },
 "nbformat": 4,
 "nbformat_minor": 2
}
