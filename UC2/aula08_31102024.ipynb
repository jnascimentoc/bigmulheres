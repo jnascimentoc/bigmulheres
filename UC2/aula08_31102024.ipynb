{
 "cells": [
  {
   "cell_type": "markdown",
   "metadata": {},
   "source": [
    "**Medidas de Tendência Central com NumPy**\n"
   ]
  },
  {
   "cell_type": "code",
   "execution_count": 2,
   "metadata": {},
   "outputs": [],
   "source": [
    "import numpy as np  \n",
    "import random"
   ]
  },
  {
   "cell_type": "code",
   "execution_count": 12,
   "metadata": {},
   "outputs": [],
   "source": [
    "amostra = np.array([2500,3200,2700,3000,3400,3700,4500,4700,5000,5200,6000,7000])\n"
   ]
  },
  {
   "cell_type": "code",
   "execution_count": 13,
   "metadata": {},
   "outputs": [
    {
     "name": "stdout",
     "output_type": "stream",
     "text": [
      "Média:, 4241.666666666667\n",
      "Mediana: 4100.0\n"
     ]
    }
   ],
   "source": [
    "media = np.mean(amostra)\n",
    "mediana = np.median(amostra)\n",
    "\n",
    "print(f'Média:, {media}') #Média:ensível a valores extremos (outliers). Em um conjunto de dados com valores extremamente altos ou baixos, a média pode ser distorcida, tornando-se um representante menos confiável do \"centro\" dos dados.\n",
    "print(f'Mediana: {mediana}') #Mediana: A mediana é ideal para distribuições assimétricas ou quando há valores extremos, como em renda ou preços de imóveis. Ela reflete o \"valor central\" dos dados sem ser puxada por valores fora do padrão."
   ]
  },
  {
   "cell_type": "code",
   "execution_count": 14,
   "metadata": {},
   "outputs": [
    {
     "name": "stdout",
     "output_type": "stream",
     "text": [
      "Distância entre média e mediana: 3.46%\n"
     ]
    }
   ],
   "source": [
    "distancia = (media-mediana)/mediana*100\n",
    "print(f'Distância entre média e mediana: {distancia:.2f}%')"
   ]
  },
  {
   "cell_type": "markdown",
   "metadata": {},
   "source": [
    "**Como eu devo interpretar isso?\n",
    "Se:\n",
    "1.Distancia <= |10%|: A minha média é confiável\n",
    "2. 10% < Distância < 25%: Existe uma influência moderada de valores extremos\n",
    "3. Distância >= 25%: A minha média é inconfiável**"
   ]
  },
  {
   "cell_type": "markdown",
   "metadata": {},
   "source": [
    "#Atividade assistida\n",
    "Crie um array com 50 números aleatórios e repitam a análise sobre a distância calculada anterior para a nova amostra"
   ]
  },
  {
   "cell_type": "code",
   "execution_count": 132,
   "metadata": {},
   "outputs": [
    {
     "name": "stdout",
     "output_type": "stream",
     "text": [
      "[30, 52, 32, 27, 11, 19, 18, 17, 59, 41, 3, 48, 21, 18, 45, 51, 43, 51, 58, 51, 29, 49, 59, 56, 60, 7, 44, 44, 2, 15, 15, 47, 8, 36, 24, 33, 54, 43, 4, 31, 53, 60, 10, 33, 22, 19, 2, 45, 24, 18]\n"
     ]
    }
   ],
   "source": [
    "dados_amostra=[random.randint(1,60) for i in range (50)]\n",
    "print(dados_amostra)"
   ]
  },
  {
   "cell_type": "code",
   "execution_count": 135,
   "metadata": {},
   "outputs": [
    {
     "name": "stdout",
     "output_type": "stream",
     "text": [
      "Média:, 32.82\n",
      "Mediana: 32.5\n",
      "Distância entre média e mediana: 0.98%\n",
      "A minha média é confiável\n",
      "Primeiro Quartil (Q1): 18.0\n",
      "Segundo Quartil (Q2): 32.5\n",
      "Terceiro Quartil (Q3): 48.75\n",
      "Os dados estão dentro do intervalo interquartil, o que sugere confiabilidade\n",
      "Limite superior: 94.88\n",
      "Limite inferior: -28.12\n",
      "Nenhum outlier identificado.\n"
     ]
    }
   ],
   "source": [
    "media = np.mean(dados_amostra)\n",
    "mediana = np.median(dados_amostra)\n",
    "print(f'Média:, {media}')\n",
    "print(f'Mediana: {mediana}')\n",
    "distancia = (media-mediana)/mediana*100\n",
    "print(f'Distância entre média e mediana: {distancia:.2f}%')\n",
    "\n",
    "\n",
    "if distancia <= 10:\n",
    "    print(\"A minha média é confiável\") \n",
    "elif distancia > 10 and distancia < 25:\n",
    "    print(\"Existe uma influência moderada de valores extremos\")\n",
    "else:\n",
    "    print(\"A minha média é inconfiável\")\n",
    "\n",
    "q1=np.percentile(dados_amostra,25)\n",
    "q2=np.percentile(dados_amostra,50)\n",
    "q3=np.percentile(dados_amostra,75)\n",
    "\n",
    "print(f\"Primeiro Quartil (Q1): {q1}\")\n",
    "print(f\"Segundo Quartil (Q2): {q2}\")\n",
    "print(f\"Terceiro Quartil (Q3): {q3}\")\n",
    "\n",
    "#Intervalo interquartil\n",
    "\n",
    "if q1 <= media <= q3:\n",
    "    print(\"Os dados estão dentro do intervalo interquartil, o que sugere confiabilidade\")\n",
    "else:\n",
    "    print(\"Os dados estão fora do intervalo interquartil, o que sugere menos confiabilidade\")\n",
    "\n",
    "#Calculos da verificação do Intervalo InterQuartil(IQR) e seus limites.\n",
    "iqr = q3-q1\n",
    "limite_superior = q3 + (1.5*iqr)\n",
    "limite_inferior = q1 - (1.5*iqr)\n",
    "\n",
    "print(f'Limite superior: {limite_superior:.2f}')\n",
    "print(f'Limite inferior: {limite_inferior:.2f}')\n",
    "\n",
    "# Identificação de outliers\n",
    "outliers = [x for x in dados_amostra if x < limite_inferior or x > limite_superior]\n",
    "\n",
    "if outliers:\n",
    "    print(f\"Outliers identificados: {outliers}\")\n",
    "else:\n",
    "    print(\"Nenhum outlier identificado.\")\n"
   ]
  }
 ],
 "metadata": {
  "kernelspec": {
   "display_name": "Python 3",
   "language": "python",
   "name": "python3"
  },
  "language_info": {
   "codemirror_mode": {
    "name": "ipython",
    "version": 3
   },
   "file_extension": ".py",
   "mimetype": "text/x-python",
   "name": "python",
   "nbconvert_exporter": "python",
   "pygments_lexer": "ipython3",
   "version": "3.11.4"
  },
  "orig_nbformat": 4
 },
 "nbformat": 4,
 "nbformat_minor": 2
}
