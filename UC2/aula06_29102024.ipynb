{
 "cells": [
  {
   "cell_type": "code",
   "execution_count": 3,
   "metadata": {},
   "outputs": [],
   "source": [
    "import pandas as pd\n",
    "import numpy as np"
   ]
  },
  {
   "cell_type": "code",
   "execution_count": null,
   "metadata": {},
   "outputs": [],
   "source": [
    "dados = pd.read_csv('C:\\\\Users\\\\unidade.copacabana\\\\Documents\\\\BigDataSenac\\\\arquivos\\\\weight_change_dataset.csv')\n",
    "display(dados.head())\n",
    "estatistica = dados.describe()\n",
    "display(estatistica)"
   ]
  },
  {
   "cell_type": "code",
   "execution_count": 15,
   "metadata": {},
   "outputs": [],
   "source": [
    "dados = pd.read_csv('C:\\\\Users\\\\unidade.copacabana\\\\Documents\\\\BigDataSenac\\\\arquivos\\\\weight_change_dataset.csv')\n",
    "#display(dados.head())\n",
    "estatistica = dados.describe()\n",
    "#display(estatistica)\n",
    "df_copia=dados.copy() #Boas práticas: Sempre inicie com uma cópia \n",
    "#display(df_copia)"
   ]
  },
  {
   "cell_type": "code",
   "execution_count": 16,
   "metadata": {},
   "outputs": [],
   "source": [
    "df_loc = df_copia.loc[df_copia['Sleep Quality']=='Excellent']\n",
    "#display(df_loc)"
   ]
  },
  {
   "cell_type": "code",
   "execution_count": null,
   "metadata": {},
   "outputs": [],
   "source": [
    "#Selecionando a informação por índices (linhas e/ou colunas específicas)\n",
    "df_loc2=df_copia.loc[:2,:4]\n",
    "display(df_loc2)"
   ]
  },
  {
   "cell_type": "code",
   "execution_count": null,
   "metadata": {},
   "outputs": [],
   "source": [
    "#Selecionando a partir de filtros com teste lógico\n",
    "df_query=df_copia.query('Age<40')\n",
    "display(df_query)"
   ]
  }
 ],
 "metadata": {
  "language_info": {
   "name": "python"
  }
 },
 "nbformat": 4,
 "nbformat_minor": 2
}
