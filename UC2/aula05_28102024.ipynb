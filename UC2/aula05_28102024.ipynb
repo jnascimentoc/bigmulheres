{
 "cells": [
  {
   "cell_type": "markdown",
   "metadata": {},
   "source": [
    "##Aula 05##"
   ]
  },
  {
   "cell_type": "code",
   "execution_count": 2,
   "metadata": {},
   "outputs": [],
   "source": [
    "import numpy as np\n",
    "import pandas as pd"
   ]
  },
  {
   "cell_type": "code",
   "execution_count": 3,
   "metadata": {},
   "outputs": [
    {
     "name": "stdout",
     "output_type": "stream",
     "text": [
      "[10 20 30]\n",
      "0    10\n",
      "1    20\n",
      "2    30\n",
      "dtype: int64\n"
     ]
    }
   ],
   "source": [
    "#convertendo um array para uma série\n",
    "arr1=np.array([10,20,30])\n",
    "serie1=pd.Series(arr1)\n",
    "print(arr1)\n",
    "print(serie1)\n"
   ]
  },
  {
   "cell_type": "code",
   "execution_count": 4,
   "metadata": {},
   "outputs": [
    {
     "name": "stdout",
     "output_type": "stream",
     "text": [
      "[10 20 30]\n"
     ]
    }
   ],
   "source": [
    "arr2= serie1.to_numpy()\n",
    "print(arr2)"
   ]
  },
  {
   "cell_type": "markdown",
   "metadata": {},
   "source": [
    "**Dataframes e suas principais funções**"
   ]
  },
  {
   "cell_type": "code",
   "execution_count": 39,
   "metadata": {},
   "outputs": [
    {
     "name": "stdout",
     "output_type": "stream",
     "text": [
      "[[1 2]\n",
      " [3 4]]\n",
      "   A  B\n",
      "0  1  2\n",
      "1  3  4\n"
     ]
    }
   ],
   "source": [
    "#Criacao\n",
    "arr3=np.array([[1,2],[3,4]])\n",
    "df_arr=pd.DataFrame(arr3,columns=['A','B'])\n",
    "print(arr3)\n",
    "print(df_arr)"
   ]
  },
  {
   "cell_type": "code",
   "execution_count": 40,
   "metadata": {},
   "outputs": [
    {
     "name": "stdout",
     "output_type": "stream",
     "text": [
      "0    1\n",
      "1    3\n",
      "Name: A, dtype: int64\n"
     ]
    }
   ],
   "source": [
    "#Transformando uma coluna em uma série\n",
    "coluna_serie=df_arr3['A']\n",
    "print(coluna_serie)"
   ]
  },
  {
   "cell_type": "code",
   "execution_count": 41,
   "metadata": {},
   "outputs": [
    {
     "name": "stdout",
     "output_type": "stream",
     "text": [
      "Cidade\n",
      "RJ    3\n",
      "SP    2\n",
      "MG    1\n",
      "ES    1\n",
      "Name: count, dtype: int64\n"
     ]
    }
   ],
   "source": [
    "#Contagem de valores\n",
    "estados=pd.DataFrame({'Cidade': ['RJ', 'SP', 'MG', 'ES', 'RJ', 'RJ', 'SP']})\n",
    "print(estados['Cidade'].value_counts())"
   ]
  },
  {
   "cell_type": "code",
   "execution_count": 42,
   "metadata": {},
   "outputs": [
    {
     "name": "stdout",
     "output_type": "stream",
     "text": [
      "117.6\n",
      "7.84\n",
      "8.0\n"
     ]
    }
   ],
   "source": [
    "#Calculos Estatísticos\n",
    "notas=pd.DataFrame({'Notas':[10, 8.5,7,7,7,7,5.6,6,8,8,7,9,10,9,8.5]})\n",
    "print(notas['Notas'].sum()) #soma\n",
    "print(notas['Notas'].mean()) #média\n",
    "print(notas['Notas'].median()) #mediana\n",
    "print(notas.describe()) #Resumo das estatísticas\n"
   ]
  },
  {
   "cell_type": "markdown",
   "metadata": {},
   "source": [
    "**Atividade 1: \n",
    "Crie um array unidimensional com os números de 1 a 12. Transforme este array em uma matriz de 3 linhas e 4 colunas.(Desafio: Aplique a tarnsposição da matriz para criar as dimensões em 4x3 (.transpose)e, em seguida, crie um array unidimensional (.flatten))**"
   ]
  },
  {
   "cell_type": "code",
   "execution_count": 58,
   "metadata": {},
   "outputs": [
    {
     "name": "stdout",
     "output_type": "stream",
     "text": [
      "------Array Original------\n",
      " [ 1  2  3  4  5  6  7  8  9 10 11 12]\n",
      "------Reshape------\n",
      " [[ 1  2  3  4]\n",
      " [ 5  6  7  8]\n",
      " [ 9 10 11 12]]\n",
      "------Transpose------\n",
      " [[ 1  5  9]\n",
      " [ 2  6 10]\n",
      " [ 3  7 11]\n",
      " [ 4  8 12]]\n",
      "------Flatten------\n",
      " [ 1  5  9  2  6 10  3  7 11  4  8 12]\n"
     ]
    }
   ],
   "source": [
    "arr=np.array([1,2,3,4,5,6,7,8,9,10,11,12])\n",
    "matrizR=arr.reshape(3,4)\n",
    "matrizT=matriz.transpose()\n",
    "arrayF=matrizT.flatten()\n",
    "\n",
    "print(\"------Array Original------\\n\", arr)\n",
    "print(\"------Reshape------\\n\", matrizR)\n",
    "print(\"------Transpose------\\n\", matrizT)\n",
    "print(\"------Flatten------\\n\", arrayF)\n",
    "\n",
    "\n"
   ]
  },
  {
   "cell_type": "markdown",
   "metadata": {},
   "source": [
    "**Atividade 2: \n",
    "Leia o arquivo ClassicDisco.csv trabalhando em aulas anteriores e aplique o comando .describe() para gerar uma análise estatística das ultimas linhas do Dataset com apoio nesta atividade.**"
   ]
  },
  {
   "cell_type": "code",
   "execution_count": 66,
   "metadata": {},
   "outputs": [
    {
     "name": "stdout",
     "output_type": "stream",
     "text": [
      "         Year       Duration  Time_Signature  Danceability    Energy  \\\n",
      "count     5.0       5.000000             5.0      5.000000  5.000000   \n",
      "mean   1979.0  322579.000000             4.0      0.659200  0.907400   \n",
      "std       0.0   80231.120066             0.0      0.032097  0.062304   \n",
      "min    1979.0  208200.000000             4.0      0.633000  0.840000   \n",
      "25%    1979.0  299510.000000             4.0      0.633000  0.854000   \n",
      "50%    1979.0  306818.000000             4.0      0.649000  0.901000   \n",
      "75%    1979.0  390567.000000             4.0      0.672000  0.970000   \n",
      "max    1979.0  407800.000000             4.0      0.709000  0.972000   \n",
      "\n",
      "             Key  Loudness  Mode  Speechiness  Acousticness  Instrumentalness  \\\n",
      "count   5.000000   5.00000   5.0      5.00000      5.000000          5.000000   \n",
      "mean    6.000000  -6.35860   1.0      0.05708      0.011308          0.223529   \n",
      "std     3.082207   2.57186   0.0      0.04591      0.022023          0.392843   \n",
      "min     2.000000 -10.24800   1.0      0.03250      0.000343          0.000009   \n",
      "25%     5.000000  -7.71300   1.0      0.03480      0.000667          0.000055   \n",
      "50%     5.000000  -4.92900   1.0      0.03800      0.000681          0.006580   \n",
      "75%     8.000000  -4.75000   1.0      0.04110      0.004250          0.202000   \n",
      "max    10.000000  -4.15300   1.0      0.13900      0.050600          0.909000   \n",
      "\n",
      "       Liveness   Valence       Tempo  Popularity  \n",
      "count   5.00000  5.000000    5.000000    5.000000  \n",
      "mean    0.30986  0.851000  128.363600   22.200000  \n",
      "std     0.23441  0.066246    0.792989    5.167204  \n",
      "min     0.05330  0.757000  127.591000   15.000000  \n",
      "25%     0.10100  0.815000  127.776000   20.000000  \n",
      "50%     0.37500  0.862000  128.020000   23.000000  \n",
      "75%     0.39600  0.900000  129.173000   24.000000  \n",
      "max     0.62400  0.921000  129.258000   29.000000  \n"
     ]
    }
   ],
   "source": [
    "\n",
    "df_disco = pd.read_csv('C:\\\\Users\\\\unidade.copacabana\\\\Documents\\\\BigDataSenac\\\\arquivos\\\\ClassicDisco.csv')\n",
    "print(df_disco.tail().describe())"
   ]
  },
  {
   "cell_type": "code",
   "execution_count": null,
   "metadata": {},
   "outputs": [],
   "source": []
  }
 ],
 "metadata": {
  "kernelspec": {
   "display_name": "Python 3",
   "language": "python",
   "name": "python3"
  },
  "language_info": {
   "codemirror_mode": {
    "name": "ipython",
    "version": 3
   },
   "file_extension": ".py",
   "mimetype": "text/x-python",
   "name": "python",
   "nbconvert_exporter": "python",
   "pygments_lexer": "ipython3",
   "version": "3.11.4"
  },
  "orig_nbformat": 4
 },
 "nbformat": 4,
 "nbformat_minor": 2
}
