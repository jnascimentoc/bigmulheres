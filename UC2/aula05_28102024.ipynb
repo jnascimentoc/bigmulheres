{
 "cells": [
  {
   "cell_type": "markdown",
   "metadata": {},
   "source": [
    "##Aula 05##"
   ]
  },
  {
   "cell_type": "code",
   "execution_count": 2,
   "metadata": {},
   "outputs": [],
   "source": [
    "import numpy as np\n",
    "import pandas as pd"
   ]
  },
  {
   "cell_type": "code",
   "execution_count": 3,
   "metadata": {},
   "outputs": [
    {
     "name": "stdout",
     "output_type": "stream",
     "text": [
      "[10 20 30]\n",
      "0    10\n",
      "1    20\n",
      "2    30\n",
      "dtype: int64\n"
     ]
    }
   ],
   "source": [
    "#convertendo um array para uma série\n",
    "arr1=np.array([10,20,30])\n",
    "serie1=pd.Series(arr1)\n",
    "print(arr1)\n",
    "print(serie1)\n"
   ]
  },
  {
   "cell_type": "code",
   "execution_count": 4,
   "metadata": {},
   "outputs": [
    {
     "name": "stdout",
     "output_type": "stream",
     "text": [
      "[10 20 30]\n"
     ]
    }
   ],
   "source": [
    "arr2= serie1.to_numpy()\n",
    "print(arr2)"
   ]
  },
  {
   "cell_type": "markdown",
   "metadata": {},
   "source": [
    "**Dataframes e suas principais funções**"
   ]
  },
  {
   "cell_type": "code",
   "execution_count": 39,
   "metadata": {},
   "outputs": [
    {
     "name": "stdout",
     "output_type": "stream",
     "text": [
      "[[1 2]\n",
      " [3 4]]\n",
      "   A  B\n",
      "0  1  2\n",
      "1  3  4\n"
     ]
    }
   ],
   "source": [
    "#Criacao\n",
    "arr3=np.array([[1,2],[3,4]])\n",
    "df_arr=pd.DataFrame(arr3,columns=['A','B'])\n",
    "print(arr3)\n",
    "print(df_arr)"
   ]
  },
  {
   "cell_type": "code",
   "execution_count": 40,
   "metadata": {},
   "outputs": [
    {
     "name": "stdout",
     "output_type": "stream",
     "text": [
      "0    1\n",
      "1    3\n",
      "Name: A, dtype: int64\n"
     ]
    }
   ],
   "source": [
    "#Transformando uma coluna em uma série\n",
    "coluna_serie=df_arr3['A']\n",
    "print(coluna_serie)"
   ]
  },
  {
   "cell_type": "code",
   "execution_count": 41,
   "metadata": {},
   "outputs": [
    {
     "name": "stdout",
     "output_type": "stream",
     "text": [
      "Cidade\n",
      "RJ    3\n",
      "SP    2\n",
      "MG    1\n",
      "ES    1\n",
      "Name: count, dtype: int64\n"
     ]
    }
   ],
   "source": [
    "#Contagem de valores\n",
    "estados=pd.DataFrame({'Cidade': ['RJ', 'SP', 'MG', 'ES', 'RJ', 'RJ', 'SP']})\n",
    "print(estados['Cidade'].value_counts())"
   ]
  },
  {
   "cell_type": "code",
   "execution_count": 42,
   "metadata": {},
   "outputs": [
    {
     "name": "stdout",
     "output_type": "stream",
     "text": [
      "117.6\n",
      "7.84\n",
      "8.0\n"
     ]
    }
   ],
   "source": [
    "#Calculos Estatísticos\n",
    "notas=pd.DataFrame({'Notas':[10, 8.5,7,7,7,7,5.6,6,8,8,7,9,10,9,8.5]})\n",
    "print(notas['Notas'].sum()) #soma\n",
    "print(notas['Notas'].mean()) #média\n",
    "print(notas['Notas'].median()) #mediana\n",
    "print(notas.describe()) #Resumo das estatísticas\n"
   ]
  }
 ],
 "metadata": {
  "kernelspec": {
   "display_name": "Python 3",
   "language": "python",
   "name": "python3"
  },
  "language_info": {
   "codemirror_mode": {
    "name": "ipython",
    "version": 3
   },
   "file_extension": ".py",
   "mimetype": "text/x-python",
   "name": "python",
   "nbconvert_exporter": "python",
   "pygments_lexer": "ipython3",
   "version": "3.11.4"
  },
  "orig_nbformat": 4
 },
 "nbformat": 4,
 "nbformat_minor": 2
}
