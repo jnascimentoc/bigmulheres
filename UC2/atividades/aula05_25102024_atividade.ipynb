{
 "cells": [
  {
   "cell_type": "markdown",
   "metadata": {},
   "source": [
    "**.describe()**"
   ]
  },
  {
   "cell_type": "markdown",
   "metadata": {},
   "source": [
    "O método .describe() em Python, quando utilizado em bibliotecas como Pandas, fornece um resumo estatístico das colunas numéricas de um DataFrame. Aqui está o que cada valor representa:\n",
    "count: O número de valores não nulos em cada coluna. É útil para verificar se existem valores ausentes.\n",
    "mean: A média aritmética dos valores. Isso dá uma ideia do valor central dos dados.\n",
    "std: O desvio padrão, que mede a dispersão dos valores em relação à média. Um valor alto indica que os dados estão muito espalhados.\n",
    "min: O menor valor presente na coluna.\n",
    "25%: O primeiro quartil (Q1), que é o valor abaixo do qual 25% dos dados caem. Ele indica a mediana da primeira metade dos dados.\n",
    "50%: A mediana (Q2), que é o valor que divide os dados ao meio. 50% dos dados estão abaixo e 50% estão acima desse valor.\n",
    "75%: O terceiro quartil (Q3), que é o valor abaixo do qual 75% dos dados caem. Ele indica a mediana da segunda metade dos dados.\n",
    "max: O maior valor presente na coluna.\n",
    "Esses valores ajudam a entender a distribuição e a tendência central dos dados em um DataFrame, facilitando a análise estatística e a identificação de outliers.\n",
    " "
   ]
  },
  {
   "cell_type": "markdown",
   "metadata": {},
   "source": [
    "**Atividade 1: Crie um array unidimensional com os números de 1 a 12. Transforme este array em uma matriz de 3 linhas e 4 colunas.(Desafio: Aplique a tarnsposição da matriz para criar as dimensões em 4x3 (.transpose)e, em seguida, crie um array unidimensional (.flatten))**\n"
   ]
  },
  {
   "cell_type": "code",
   "execution_count": 1,
   "metadata": {},
   "outputs": [],
   "source": [
    "import pandas as pd\n",
    "import numpy as np"
   ]
  },
  {
   "cell_type": "code",
   "execution_count": 4,
   "metadata": {},
   "outputs": [
    {
     "name": "stdout",
     "output_type": "stream",
     "text": [
      "------Array Original------\n",
      "[ 1  2  3  4  5  6  7  8  9 10 11 12]\n",
      "------Reshape------\n",
      "[[ 1  2  3  4]\n",
      " [ 5  6  7  8]\n",
      " [ 9 10 11 12]]\n",
      "------Transpose------\n",
      "[[ 1  5  9]\n",
      " [ 2  6 10]\n",
      " [ 3  7 11]\n",
      " [ 4  8 12]]\n",
      "------Flatten------\n",
      "[ 1  5  9  2  6 10  3  7 11  4  8 12]\n"
     ]
    }
   ],
   "source": [
    "arr=np.array([1,2,3,4,5,6,7,8,9,10,11,12])\n",
    "matrizR=arr.reshape(3,4)\n",
    "matrizT=matrizR.transpose()\n",
    "arrayF=matrizT.flatten()\n",
    "\n",
    "print(f\"------Array Original------\\n{arr}\")\n",
    "print(f\"------Reshape------\\n{matrizR}\")\n",
    "print(f\"------Transpose------\\n{matrizT}\")\n",
    "print(f\"------Flatten------\\n{arrayF}\")"
   ]
  },
  {
   "cell_type": "markdown",
   "metadata": {},
   "source": [
    "**Atividade 2: Leia o arquivo ClassicDisco.csv trabalhando em aulas anteriores e aplique o comando .describe() para gerar uma análise estatística das ultimas linhas do Dataset com apoio nesta atividade.**\n"
   ]
  },
  {
   "cell_type": "code",
   "execution_count": 5,
   "metadata": {},
   "outputs": [
    {
     "name": "stdout",
     "output_type": "stream",
     "text": [
      "         Year       Duration  Time_Signature  Danceability    Energy  \\\n",
      "count     5.0       5.000000             5.0      5.000000  5.000000   \n",
      "mean   1979.0  322579.000000             4.0      0.659200  0.907400   \n",
      "std       0.0   80231.120066             0.0      0.032097  0.062304   \n",
      "min    1979.0  208200.000000             4.0      0.633000  0.840000   \n",
      "25%    1979.0  299510.000000             4.0      0.633000  0.854000   \n",
      "50%    1979.0  306818.000000             4.0      0.649000  0.901000   \n",
      "75%    1979.0  390567.000000             4.0      0.672000  0.970000   \n",
      "max    1979.0  407800.000000             4.0      0.709000  0.972000   \n",
      "\n",
      "             Key  Loudness  Mode  Speechiness  Acousticness  Instrumentalness  \\\n",
      "count   5.000000   5.00000   5.0      5.00000      5.000000          5.000000   \n",
      "mean    6.000000  -6.35860   1.0      0.05708      0.011308          0.223529   \n",
      "std     3.082207   2.57186   0.0      0.04591      0.022023          0.392843   \n",
      "min     2.000000 -10.24800   1.0      0.03250      0.000343          0.000009   \n",
      "25%     5.000000  -7.71300   1.0      0.03480      0.000667          0.000055   \n",
      "50%     5.000000  -4.92900   1.0      0.03800      0.000681          0.006580   \n",
      "75%     8.000000  -4.75000   1.0      0.04110      0.004250          0.202000   \n",
      "max    10.000000  -4.15300   1.0      0.13900      0.050600          0.909000   \n",
      "\n",
      "       Liveness   Valence       Tempo  Popularity  \n",
      "count   5.00000  5.000000    5.000000    5.000000  \n",
      "mean    0.30986  0.851000  128.363600   22.200000  \n",
      "std     0.23441  0.066246    0.792989    5.167204  \n",
      "min     0.05330  0.757000  127.591000   15.000000  \n",
      "25%     0.10100  0.815000  127.776000   20.000000  \n",
      "50%     0.37500  0.862000  128.020000   23.000000  \n",
      "75%     0.39600  0.900000  129.173000   24.000000  \n",
      "max     0.62400  0.921000  129.258000   29.000000  \n"
     ]
    }
   ],
   "source": [
    "df_disco = pd.read_csv('C:\\\\Users\\\\unidade.copacabana\\\\Documents\\\\BigDataSenac\\\\arquivos\\\\ClassicDisco.csv')\n",
    "print(df_disco.tail().describe())"
   ]
  }
 ],
 "metadata": {
  "kernelspec": {
   "display_name": "Python 3",
   "language": "python",
   "name": "python3"
  },
  "language_info": {
   "codemirror_mode": {
    "name": "ipython",
    "version": 3
   },
   "file_extension": ".py",
   "mimetype": "text/x-python",
   "name": "python",
   "nbconvert_exporter": "python",
   "pygments_lexer": "ipython3",
   "version": "3.11.4"
  },
  "orig_nbformat": 4
 },
 "nbformat": 4,
 "nbformat_minor": 2
}
