{
 "cells": [
  {
   "cell_type": "markdown",
   "metadata": {},
   "source": [
    "**.Describe \n",
  print(".describe()")

O método .describe() em Python, quando utilizado em bibliotecas como Pandas, fornece um resumo estatístico das colunas numéricas de um DataFrame. Aqui está o que cada valor representa:

count: O número de valores não nulos em cada coluna. É útil para verificar se existem valores ausentes.

mean: A média aritmética dos valores. Isso dá uma ideia do valor central dos dados.

std: O desvio padrão, que mede a dispersão dos valores em relação à média. Um valor alto indica que os dados estão muito espalhados.

min: O menor valor presente na coluna.

25%: O primeiro quartil (Q1), que é o valor abaixo do qual 25% dos dados caem. Ele indica a mediana da primeira metade dos dados.

50%: A mediana (Q2), que é o valor que divide os dados ao meio. 50% dos dados estão abaixo e 50% estão acima desse valor.

75%: O terceiro quartil (Q3), que é o valor abaixo do qual 75% dos dados caem. Ele indica a mediana da segunda metade dos dados.

max: O maior valor presente na coluna.

Esses valores ajudam a entender a distribuição e a tendência central dos dados em um DataFrame, facilitando a análise estatística e a identificação de outliers.
 
  },

 "cells": [
  {
   "cell_type": "markdown",
   "metadata": {},
   "source": [
    "**Atividade 1: \n",
    "Crie um array unidimensional com os números de 1 a 12. Transforme este array em uma matriz de 3 linhas e 4 colunas.(Desafio: Aplique a tarnsposição da matriz para criar as dimensões em 4x3 (.transpose)e, em seguida, crie um array unidimensional (.flatten))**"
   ]
  },
  {
   "cell_type": "code",
   "execution_count": 2,
   "metadata": {},
   "outputs": [],
   "source": [
    "import pandas as pd\n",
    "import numpy as np"
   ]
  },
  {
   "cell_type": "code",
   "execution_count": null,
   "metadata": {},
   "outputs": [],
   "source": [
    "arr=np.array([1,2,3,4,5,6,7,8,9,10,11,12])\n",
    "matrizR=arr.reshape(3,4)\n",
    "matrizT=matrizR.transpose()\n",
    "arrayF=matrizT.flatten()\n",
    "\n",
    "print(\"------Array Original------\\n\", arr)\n",
    "print(\"------Reshape------\\n\", matrizR)\n",
    "print(\"------Transpose------\\n\", matrizT)\n",
    "print(\"------Flatten------\\n\", arrayF)"
   ]
  },
  {
   "cell_type": "markdown",
   "metadata": {},
   "source": [
    "**Atividade 2: \n",
    "Leia o arquivo ClassicDisco.csv trabalhando em aulas anteriores e aplique o comando .describe() para gerar uma análise estatística das ultimas linhas do Dataset com apoio nesta atividade.**"
   ]
  },
  {
   "cell_type": "code",
   "execution_count": null,
   "metadata": {},
   "outputs": [],
   "source": [
    "\n",
    "df_disco = pd.read_csv('C:\\\\Users\\\\unidade.copacabana\\\\Documents\\\\BigDataSenac\\\\arquivos\\\\ClassicDisco.csv')\n",
    "print(df_disco.tail().describe())"
   ]
  }
 ],
 "metadata": {
  "language_info": {
   "name": "python"
  }
 },
 "nbformat": 4,
 "nbformat_minor": 2
}
