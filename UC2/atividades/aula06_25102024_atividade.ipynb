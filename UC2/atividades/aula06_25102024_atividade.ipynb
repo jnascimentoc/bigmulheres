{
 "cells": [
  {
   "cell_type": "markdown",
   "metadata": {},
   "source": [
    "***ATIVIDADE 1: (Aula)***\n",
    "A partir do dataset trabalhado nesta aula, trace 3 perfis e os demonstre no display:\n",
    "\n",
    "Perfil 1: Pessoas sedentárias com dietas alimentares de até 2200 calorias;\n",
    "Perfil 2: Pessoas acima de 50 anos com hábitos muito bons de atividade física;\n",
    "Perfil 3:Pessoas com menos de 20 anos que participam dos estudos nutricionais por mais de 1 mês.**"
   ]
  },
  {
   "cell_type": "markdown",
   "metadata": {},
   "source": [
    "***Atividade 2: (GitHub)***\n",
    "Replique os processos de leitura , cópia e consultas exercitados em aula utilizando um dataset livre pesquisado por você (dê preferência a arquivos .csv, .xlsx ou .json)."
   ]
  },
  {
   "cell_type": "code",
   "execution_count": null,
   "metadata": {
    "vscode": {
     "languageId": "plaintext"
    }
   },
   "outputs": [],
   "source": []
  }
 ],
 "metadata": {
  "language_info": {
   "name": "python"
  }
 },
 "nbformat": 4,
 "nbformat_minor": 2
}
